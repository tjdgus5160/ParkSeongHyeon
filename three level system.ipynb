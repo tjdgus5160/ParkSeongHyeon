{
 "cells": [
  {
   "cell_type": "code",
   "execution_count": 79,
   "id": "ba2f2d5f",
   "metadata": {},
   "outputs": [
    {
     "name": "stdout",
     "output_type": "stream",
     "text": [
      "State at time t (psi_t):\n",
      "[-0.41614684-0.90929743j -0.        +0.j          0.        +0.j        ]\n"
     ]
    }
   ],
   "source": [
    "import numpy as np\n",
    "\n",
    "# Define the coefficients for the initial state\n",
    "c_1 = 1\n",
    "c_2 = 0\n",
    "c_3 = 0\n",
    "\n",
    "# Define the frequencies corresponding to each energy level\n",
    "w_1 = 1.0  # this will depend on the specific energy level\n",
    "w_2 = 2.0\n",
    "w_3 = 3.0\n",
    "\n",
    "# Define the time\n",
    "t = 2.0  # you can change this to simulate the state at different times\n",
    "\n",
    "# Construct the initial state\n",
    "psi_0 = np.array([c1, c2, c3])\n",
    "\n",
    "# Calculate the state at time t\n",
    "psi_t = np.array([np.exp(-1j * w1 * t) * psi_0[0], \n",
    "                  np.exp(-1j * w2 * t) * psi_0[1], \n",
    "                  np.exp(-1j * w3 * t) * psi_0[2]])\n",
    "\n",
    "print(\"State at time t (psi_t):\")\n",
    "print(psi_t)\n"
   ]
  },
  {
   "cell_type": "code",
   "execution_count": 80,
   "id": "7866a72a",
   "metadata": {},
   "outputs": [
    {
     "name": "stdout",
     "output_type": "stream",
     "text": [
      "Unperturbed Hamiltonian:\n",
      "[[0.15915494 0.         0.        ]\n",
      " [0.         0.31830989 0.        ]\n",
      " [0.         0.         0.47746483]]\n",
      "\n",
      "Perturbed Hamiltonian:\n",
      "[[ 0.       +0.j          0.       +0.j          0.       +0.j        ]\n",
      " [-0.0787811-0.01122997j  0.       +0.j          0.       +0.j        ]\n",
      " [ 0.       +0.j         -0.0787811-0.01122997j  0.       +0.j        ]]\n",
      "\n",
      "Total Hamiltonian:\n",
      "[[ 0.15915494+0.j          0.        +0.j          0.        +0.j        ]\n",
      " [-0.0787811 -0.01122997j  0.31830989+0.j          0.        +0.j        ]\n",
      " [ 0.        +0.j         -0.0787811 -0.01122997j  0.47746483+0.j        ]]\n"
     ]
    }
   ],
   "source": [
    "# Define Planck's constant/2pi\n",
    "h = 1.0\n",
    "hbar = h / (2 * np.pi) # np.pi는 3.141592653589793\n",
    "\n",
    "# Define the energies for the three levels\n",
    "E1 = hbar * w_1\n",
    "E2 = hbar * w_2\n",
    "E3 = hbar * w_3\n",
    "\n",
    "# Construct the unperturbed Hamiltonian matrix\n",
    "H_0 = np.diag([E1, E2, E3])\n",
    "\n",
    "print(\"Unperturbed Hamiltonian:\")\n",
    "print(H_0)\n",
    "\n",
    "# For the perturbed Hamiltonian, we need the dipole moment and the electric field\n",
    "# H_i = -d * E, d = -e * r, d = transition dipole moment\n",
    "\n",
    "Rabi_frequency_p = 1\n",
    "Rabi_frequency_c = 1\n",
    "phi_p = 1 # laser phase\n",
    "phi_c = 1\n",
    "w_p = 1\n",
    "w_c = 1\n",
    "\n",
    "H_i = np.array([[0, 0, 0],\n",
    "                [(hbar/2) * Rabi_frequency_p * np.exp(-1j * phi_p) * np.exp(-1j * w_p * t), 0, 0],\n",
    "                [0,(hbar/2) * Rabi_frequency_c * np.exp(-1j * phi_c) * np.exp(-1j * w_c * t),0]])\n",
    "\n",
    "print(\"\\nPerturbed Hamiltonian:\")\n",
    "print(H_i)\n",
    "\n",
    "# The total Hamiltonian is the sum of the unperturbed and perturbed Hamiltonians\n",
    "H = H_0 + H_i\n",
    "\n",
    "print(\"\\nTotal Hamiltonian:\")\n",
    "print(H)"
   ]
  },
  {
   "cell_type": "code",
   "execution_count": 81,
   "id": "5f06454d",
   "metadata": {},
   "outputs": [
    {
     "name": "stdout",
     "output_type": "stream",
     "text": [
      "\n",
      "Decay rate:\n",
      "[[0. 1. 1.]\n",
      " [1. 0. 1.]\n",
      " [1. 1. 0.]]\n"
     ]
    }
   ],
   "source": [
    "# state간 frequency?\n",
    "w_21 = w_2 - w_1\n",
    "w_32 = w_3 - w_2\n",
    "w_31 = w_3 - w_1\n",
    "\n",
    "# decay\n",
    "# R_i는 i state에서 spontaneous decay하는 frequency?\n",
    "R_1 = 1\n",
    "R_2 = 1\n",
    "R_3 = 1\n",
    "r= np.array([[0, (R_1 + R_2)/2, (R_1 + R_3)/2],\n",
    "                 [(R_2 + R_1)/2, 0, (R_2 + R_3)/2],\n",
    "                 [(R_3 + R_1)/2, (R_3 + R_2)/2, 0]])\n",
    "\n",
    "print(\"\\nDecay rate:\")\n",
    "print(r)"
   ]
  },
  {
   "cell_type": "code",
   "execution_count": 82,
   "id": "3984e1b8",
   "metadata": {},
   "outputs": [
    {
     "name": "stdout",
     "output_type": "stream",
     "text": [
      "\n",
      "density matrix 2행 1열 성분\n",
      "(-0.7274379414605454+0.3329174692377139j)\n"
     ]
    }
   ],
   "source": [
    "detuning_1 = w_p - w_21\n",
    "detuning_2 = w_c - w_32\n",
    "g_21 = 1\n",
    "E_p = 1\n",
    "\n",
    "p_21 = (-1j * g_21 * E_p * np.exp(-1j * w_p * t))/(((r[1][0])-1j * detuning_1)+((Rabi_frequency_c)**2/4)/(r[2][0] - 1j * (detuning_1+detuning_2)))\n",
    "\n",
    "print(\"\\ndensity matrix 2행 1열 성분\")\n",
    "print(p_21)"
   ]
  },
  {
   "cell_type": "code",
   "execution_count": 83,
   "id": "a28cf850",
   "metadata": {},
   "outputs": [
    {
     "name": "stdout",
     "output_type": "stream",
     "text": [
      "\n",
      "density matrix 3행 1열 성분\n",
      "(-0.7681362293202929-0.2235323985591407j)\n"
     ]
    }
   ],
   "source": [
    "g_32 = 1\n",
    "E_c = 1\n",
    "\n",
    "p_31 = (-1j * g_32 * E_c * np.exp(-1j * w_c * t) * np.exp(-1j * phi_c * t) * p_21)/(r[2][0] - 1j * (detuning_1+detuning_2))\n",
    "\n",
    "print(\"\\ndensity matrix 3행 1열 성분\")\n",
    "print(p_31)"
   ]
  },
  {
   "cell_type": "code",
   "execution_count": 84,
   "id": "304b2d36",
   "metadata": {},
   "outputs": [
    {
     "name": "stdout",
     "output_type": "stream",
     "text": [
      "\n",
      "도플러 넓힘이 없을 때 susceptibility\n",
      "0.5092958178940651j\n"
     ]
    }
   ],
   "source": [
    "# Doppler broadening이 없을 때 susceptibility\n",
    "# w_p에 의한 susceptibility\n",
    "epsilon_0 = 1\n",
    "\n",
    "Kai = ((4 * 1j * hbar * (g_21**2))/epsilon_0) / ((r[1][0] - 1j * detuning_1) + ((Rabi_frequency_c)**2/4)/(r[2][0] - 1j*(detuning_1+detuning_2)))\n",
    "\n",
    "print(\"\\n도플러 넓힘이 없을 때 susceptibility\")\n",
    "print(Kai)"
   ]
  },
  {
   "cell_type": "code",
   "execution_count": null,
   "id": "1b871217",
   "metadata": {},
   "outputs": [],
   "source": []
  },
  {
   "cell_type": "code",
   "execution_count": null,
   "id": "315ec496",
   "metadata": {},
   "outputs": [],
   "source": []
  },
  {
   "cell_type": "code",
   "execution_count": null,
   "id": "4bdbd6b5",
   "metadata": {},
   "outputs": [],
   "source": []
  },
  {
   "cell_type": "code",
   "execution_count": null,
   "id": "b053f903",
   "metadata": {},
   "outputs": [],
   "source": []
  }
 ],
 "metadata": {
  "kernelspec": {
   "display_name": "Python 3 (ipykernel)",
   "language": "python",
   "name": "python3"
  },
  "language_info": {
   "codemirror_mode": {
    "name": "ipython",
    "version": 3
   },
   "file_extension": ".py",
   "mimetype": "text/x-python",
   "name": "python",
   "nbconvert_exporter": "python",
   "pygments_lexer": "ipython3",
   "version": "3.10.12"
  }
 },
 "nbformat": 4,
 "nbformat_minor": 5
}
