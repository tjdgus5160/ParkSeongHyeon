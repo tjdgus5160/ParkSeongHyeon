{
 "cells": [
  {
   "cell_type": "code",
   "execution_count": 2,
   "id": "283e14b4",
   "metadata": {},
   "outputs": [],
   "source": [
    "# Configure the matplotlib graphics library and configure it to show\n",
    "# figures inline in the notebook\n",
    "\n",
    "%matplotlib inline\n",
    "import matplotlib.pyplot as plt  # Import library for direct plotting functions\n",
    "import numpy as np               # Import Numerical Python\n",
    "from IPython.display import display, HTML #Import HTML for formatting output\n",
    "\n",
    "# NOTE: Uncomment following lines ONLY if you are not using installation via pip\n",
    "# import sys, os\n",
    "# rootDir = '/path/to/arc/directory' # e.g. '/Users/Username/Desktop/ARC-Alkali-Rydberg-Calculator'\n",
    "# sys.path.insert(0,rootDir)\n",
    "# import sys, os\n",
    "# sys.path.insert(0,\"..\")\n",
    "\n",
    "import arc\n",
    "from arc import *                 #Import ARC (Alkali Rydberg Calculator)"
   ]
  },
  {
   "cell_type": "code",
   "execution_count": 3,
   "id": "95f95e86",
   "metadata": {},
   "outputs": [],
   "source": [
    "# -*- coding: utf-8 -*-\n",
    "\"\"\"\n",
    "Implements general single-atom calculations\n",
    "\n",
    "This module calculates single (isolated) atom properties of all alkali metals in\n",
    "general. For example, it calculates dipole matrix elements, quandrupole matrix\n",
    "elements, etc.  Also, some helpful general functions are here, e.g. for saving\n",
    "and loading calculations (single-atom and pair-state based), printing state\n",
    "labels etc.\n",
    "\n",
    "\n",
    "\"\"\"\n",
    "\n",
    "from __future__ import division, print_function, absolute_import\n",
    "\n",
    "from arc._database import sqlite3, UsedModulesARC\n",
    "import csv\n",
    "import gzip\n",
    "from math import exp, sqrt\n",
    "from mpmath import angerj\n",
    "\n",
    "# for web-server execution, uncomment the following two lines\n",
    "# import matplotlib\n",
    "# matplotlib.use(\"Agg\")\n",
    "import numpy as np\n",
    "import re\n",
    "import shutil\n",
    "\n",
    "from numpy.linalg import eigh\n",
    "\n",
    "from scipy.constants import physical_constants, pi, epsilon_0, hbar\n",
    "from scipy.constants import k as C_k\n",
    "from scipy.constants import c as C_c\n",
    "from scipy.constants import h as C_h\n",
    "from scipy.constants import e as C_e\n",
    "from scipy.constants import m_e as C_m_e\n",
    "\n",
    "# for matrices\n",
    "from numpy import floor\n",
    "\n",
    "import sys\n",
    "import os\n",
    "\n",
    "if sys.version_info > (2,):\n",
    "    xrange = range\n",
    "\n",
    "import pickle\n",
    "\n",
    "\n",
    "DPATH = os.path.join(os.path.expanduser(\"~\"), \".arc-data\")\n",
    "__arc_data_version__ = 11\n",
    "\n",
    "__all__ = [\n",
    "    \"AlkaliAtom\",\n",
    "    \"printState\",\n",
    "    \"printStateString\",\n",
    "    \"printStateStringLatex\",\n",
    "    \"printStateLetter\",\n",
    "    \"formatNumberSI\",\n",
    "]\n",
    "\n",
    "\n",
    "def setup_data_folder():\n",
    "    \"\"\"Setup the data folder in the users home directory.\"\"\"\n",
    "    if not os.path.exists(DPATH):\n",
    "        os.makedirs(DPATH)\n",
    "\n",
    "    # check what is the local version of data\n",
    "    copyDataLocally = True\n",
    "    versionFile = os.path.join(DPATH, \"version.txt\")\n",
    "    if os.path.exists(versionFile):\n",
    "        with open(versionFile, \"r\") as f:\n",
    "            version = int(f.readline())\n",
    "        if version == __arc_data_version__:\n",
    "            copyDataLocally = False\n",
    "\n",
    "    if copyDataLocally:\n",
    "        dataFolder = os.path.join(\n",
    "            os.path.dirname(os.path.realpath(__file__)), \"data\"\n",
    "        )\n",
    "        for fn in os.listdir(dataFolder):\n",
    "            if os.path.isfile(os.path.join(dataFolder, fn)):\n",
    "                shutil.copy(os.path.join(dataFolder, fn), DPATH)\n",
    "\n",
    "        dataFolder = os.path.join(dataFolder, \"refractive_index_data\")\n",
    "        refractiveIndexData = os.path.join(DPATH, \"refractive_index_data\")\n",
    "\n",
    "        if not os.path.exists(refractiveIndexData):\n",
    "            os.makedirs(refractiveIndexData)\n",
    "\n",
    "        for fn in os.listdir(dataFolder):\n",
    "            if os.path.isfile(os.path.join(dataFolder, fn)):\n",
    "                shutil.copy(os.path.join(dataFolder, fn), refractiveIndexData)\n",
    "\n",
    "        with open(versionFile, \"w\") as f:\n",
    "            f.write(\"%d\" % __arc_data_version__)"
   ]
  },
  {
   "cell_type": "code",
   "execution_count": 4,
   "id": "9404b703",
   "metadata": {},
   "outputs": [],
   "source": [
    "def getEnergy(self, n, l, j, s=0.5):\n",
    "        \"\"\"\n",
    "        Energy of the level relative to the ionisation level (in eV)\n",
    "\n",
    "        Returned energies are with respect to the center of gravity of the\n",
    "        hyperfine-split states.\n",
    "        If `preferQuantumDefects` =False (set during initialization)\n",
    "        program will try use NIST energy value, if such exists,\n",
    "        falling back to energy calculation with quantum defects if\n",
    "        the measured value doesn't exist. For `preferQuantumDefects` =True,\n",
    "        program will calculate energies from quantum defects\n",
    "        (useful for comparing quantum defect calculations with measured\n",
    "        energy level values) if the principal quantum number of the\n",
    "        requested state is larger than the minimal quantum principal quantum\n",
    "        number `self.minQuantumDefectN` which sets minimal quantum number\n",
    "        for which quantum defects still give good estimate of state energy\n",
    "        (below this value saved energies will be used if existing).\n",
    "\n",
    "        Args:\n",
    "            n (int): principal quantum number\n",
    "            l (int): orbital angular momentum\n",
    "            j (float): total angular momentum\n",
    "            s (float): optional, total spin angular momentum. Default value\n",
    "                of 0.5 is correct for Alkali atoms, and has to be specified\n",
    "                explicitly for divalent atoms.\n",
    "\n",
    "        Returns:\n",
    "            float: state energy (eV)\n",
    "        \"\"\"\n",
    "        if l >= n:\n",
    "            raise ValueError(\n",
    "                \"Requested energy for state l=%d >= n=%d !\" % (l, n)\n",
    "            )\n",
    "\n",
    "        # use NIST data ?\n",
    "        if (\n",
    "            (not self.preferQuantumDefects or n < self.minQuantumDefectN)\n",
    "            and (n <= self.NISTdataLevels)\n",
    "            and (abs(self._getSavedEnergy(n, l, j, s=s)) > 1e-8)\n",
    "        ):\n",
    "            return self._getSavedEnergy(n, l, j, s=s)\n",
    "\n",
    "        # else, use quantum defects\n",
    "        defect = self.getQuantumDefect(n, l, j, s=s)\n",
    "        return -self.scaledRydbergConstant / ((n - defect) ** 2)\n",
    "\n",
    "\n",
    "def _getSavedEnergy(self, n, l, j, s=0.5):\n",
    "        if abs(j - (l - 0.5)) < 0.001:\n",
    "            # j = l-1/2\n",
    "            return self.sEnergy[n, l]\n",
    "        elif abs(j - (l + 0.5)) < 0.001:\n",
    "            # j =l+1/2\n",
    "            return self.sEnergy[l, n]\n",
    "        else:\n",
    "            raise ValueError(\n",
    "                \"j (=%.1f) is not equal to l+1/2 nor l-1/2 (l=%d)\" % (j, l)\n",
    "            )\n",
    "\n",
    "\n",
    "def getQuantumDefect(self, n, l, j, s=0.5):\n",
    "        \"\"\"\n",
    "        Quantum defect of the level.\n",
    "\n",
    "        For an example, see `Rydberg energy levels example snippet`_.\n",
    "\n",
    "        .. _`Rydberg energy levels example snippet`:\n",
    "            ./Rydberg_atoms_a_primer.html#Rydberg-Atom-Energy-Levels\n",
    "\n",
    "        Args:\n",
    "            n (int): principal quantum number\n",
    "            l (int): orbital angular momentum\n",
    "            j (float): total angular momentum\n",
    "            s (float): (optional). Total spin angular momentum.\n",
    "                Default value of 0.5 correct for Alkali atoms. For divalent\n",
    "                atoms it has to be explicitly defined.\n",
    "\n",
    "        Returns:\n",
    "            float: quantum defect\n",
    "        \"\"\"\n",
    "        defect = 0.0\n",
    "        if l < 5:\n",
    "            # find correct part in table of quantum defects\n",
    "            modifiedRRcoef = self.quantumDefect[round(floor(s) + s + j - l)][l]\n",
    "            if l < 3 and abs(modifiedRRcoef[0]) < 1e-9 and self.Z != 1:\n",
    "                # it's not Hydrogen but for l in {s,p,d} quantum defect is 0\n",
    "                raise ValueError(\n",
    "                    \"Quantum defects for requested state \"\n",
    "                    + (\"(n = %d, l = %d, j = %.1f, s=%.1f) are\" % (n, l, j, s))\n",
    "                    + \" uknown. Aborting calculation.\"\n",
    "                )\n",
    "            defect = (\n",
    "                modifiedRRcoef[0]\n",
    "                + modifiedRRcoef[1] / ((n - modifiedRRcoef[0]) ** 2)\n",
    "                + modifiedRRcoef[2] / ((n - modifiedRRcoef[0]) ** 4)\n",
    "                + modifiedRRcoef[3] / ((n - modifiedRRcoef[0]) ** 6)\n",
    "                + modifiedRRcoef[4] / ((n - modifiedRRcoef[0]) ** 8)\n",
    "                + modifiedRRcoef[5] / ((n - modifiedRRcoef[0]) ** 10)\n",
    "            )\n",
    "        else:\n",
    "            # use \\delta_\\ell = \\delta_g * (4/\\ell)**5\n",
    "            # from https://journals.aps.org/pra/abstract/10.1103/PhysRevA.74.062712\n",
    "            defect = self.quantumDefect[0][4][0] * (4 / l) ** 5\n",
    "        return defect"
   ]
  },
  {
   "cell_type": "code",
   "execution_count": 5,
   "id": "8650768a",
   "metadata": {},
   "outputs": [
    {
     "ename": "AttributeError",
     "evalue": "'int' object has no attribute 'preferQuantumDefects'",
     "output_type": "error",
     "traceback": [
      "\u001b[1;31m---------------------------------------------------------------------------\u001b[0m",
      "\u001b[1;31mAttributeError\u001b[0m                            Traceback (most recent call last)",
      "Cell \u001b[1;32mIn[5], line 1\u001b[0m\n\u001b[1;32m----> 1\u001b[0m \u001b[38;5;28mprint\u001b[39m(\u001b[43mgetEnergy\u001b[49m\u001b[43m(\u001b[49m\u001b[38;5;241;43m1\u001b[39;49m\u001b[43m,\u001b[49m\u001b[43m \u001b[49m\u001b[38;5;241;43m5\u001b[39;49m\u001b[43m,\u001b[49m\u001b[43m \u001b[49m\u001b[38;5;241;43m0\u001b[39;49m\u001b[43m,\u001b[49m\u001b[43m \u001b[49m\u001b[38;5;241;43m1\u001b[39;49m\u001b[38;5;241;43m/\u001b[39;49m\u001b[38;5;241;43m2\u001b[39;49m\u001b[43m,\u001b[49m\u001b[43m \u001b[49m\u001b[38;5;241;43m1\u001b[39;49m\u001b[38;5;241;43m/\u001b[39;49m\u001b[38;5;241;43m2\u001b[39;49m\u001b[43m)\u001b[49m)\n",
      "Cell \u001b[1;32mIn[4], line 37\u001b[0m, in \u001b[0;36mgetEnergy\u001b[1;34m(self, n, l, j, s)\u001b[0m\n\u001b[0;32m     31\u001b[0m     \u001b[38;5;28;01mraise\u001b[39;00m \u001b[38;5;167;01mValueError\u001b[39;00m(\n\u001b[0;32m     32\u001b[0m         \u001b[38;5;124m\"\u001b[39m\u001b[38;5;124mRequested energy for state l=\u001b[39m\u001b[38;5;132;01m%d\u001b[39;00m\u001b[38;5;124m >= n=\u001b[39m\u001b[38;5;132;01m%d\u001b[39;00m\u001b[38;5;124m !\u001b[39m\u001b[38;5;124m\"\u001b[39m \u001b[38;5;241m%\u001b[39m (l, n)\n\u001b[0;32m     33\u001b[0m     )\n\u001b[0;32m     35\u001b[0m \u001b[38;5;66;03m# use NIST data ?\u001b[39;00m\n\u001b[0;32m     36\u001b[0m \u001b[38;5;28;01mif\u001b[39;00m (\n\u001b[1;32m---> 37\u001b[0m     (\u001b[38;5;129;01mnot\u001b[39;00m \u001b[38;5;28;43mself\u001b[39;49m\u001b[38;5;241;43m.\u001b[39;49m\u001b[43mpreferQuantumDefects\u001b[49m \u001b[38;5;129;01mor\u001b[39;00m n \u001b[38;5;241m<\u001b[39m \u001b[38;5;28mself\u001b[39m\u001b[38;5;241m.\u001b[39mminQuantumDefectN)\n\u001b[0;32m     38\u001b[0m     \u001b[38;5;129;01mand\u001b[39;00m (n \u001b[38;5;241m<\u001b[39m\u001b[38;5;241m=\u001b[39m \u001b[38;5;28mself\u001b[39m\u001b[38;5;241m.\u001b[39mNISTdataLevels)\n\u001b[0;32m     39\u001b[0m     \u001b[38;5;129;01mand\u001b[39;00m (\u001b[38;5;28mabs\u001b[39m(\u001b[38;5;28mself\u001b[39m\u001b[38;5;241m.\u001b[39m_getSavedEnergy(n, l, j, s\u001b[38;5;241m=\u001b[39ms)) \u001b[38;5;241m>\u001b[39m \u001b[38;5;241m1e-8\u001b[39m)\n\u001b[0;32m     40\u001b[0m ):\n\u001b[0;32m     41\u001b[0m     \u001b[38;5;28;01mreturn\u001b[39;00m \u001b[38;5;28mself\u001b[39m\u001b[38;5;241m.\u001b[39m_getSavedEnergy(n, l, j, s\u001b[38;5;241m=\u001b[39ms)\n\u001b[0;32m     43\u001b[0m \u001b[38;5;66;03m# else, use quantum defects\u001b[39;00m\n",
      "\u001b[1;31mAttributeError\u001b[0m: 'int' object has no attribute 'preferQuantumDefects'"
     ]
    }
   ],
   "source": [
    "print(getEnergy(1, 5, 0, 1/2, 1/2))"
   ]
  },
  {
   "cell_type": "code",
   "execution_count": 6,
   "id": "e454aae7",
   "metadata": {},
   "outputs": [
    {
     "ename": "NameError",
     "evalue": "name 'RydbergCalculator' is not defined",
     "output_type": "error",
     "traceback": [
      "\u001b[1;31m---------------------------------------------------------------------------\u001b[0m",
      "\u001b[1;31mNameError\u001b[0m                                 Traceback (most recent call last)",
      "Cell \u001b[1;32mIn[6], line 1\u001b[0m\n\u001b[1;32m----> 1\u001b[0m calculator \u001b[38;5;241m=\u001b[39m \u001b[43mRydbergCalculator\u001b[49m()\n\u001b[0;32m      2\u001b[0m energy \u001b[38;5;241m=\u001b[39m calculator\u001b[38;5;241m.\u001b[39mgetEnergy(\u001b[38;5;241m1\u001b[39m, \u001b[38;5;241m5\u001b[39m, \u001b[38;5;241m0\u001b[39m, \u001b[38;5;241m0.5\u001b[39m, \u001b[38;5;241m0.5\u001b[39m)\n\u001b[0;32m      3\u001b[0m \u001b[38;5;28mprint\u001b[39m(energy)\n",
      "\u001b[1;31mNameError\u001b[0m: name 'RydbergCalculator' is not defined"
     ]
    }
   ],
   "source": [
    "calculator = RydbergCalculator()\n",
    "energy = calculator.getEnergy(1, 5, 0, 0.5, 0.5)\n",
    "print(energy)\n"
   ]
  },
  {
   "cell_type": "code",
   "execution_count": 7,
   "id": "2cbb754f",
   "metadata": {},
   "outputs": [],
   "source": [
    "from arc import *\n",
    "\n",
    "atom = Rubidium()\n"
   ]
  },
  {
   "cell_type": "code",
   "execution_count": 39,
   "id": "3cf56efa",
   "metadata": {},
   "outputs": [
    {
     "name": "stdout",
     "output_type": "stream",
     "text": [
      "The energy of the 5S1/2 state is -4.177126523766669 eV\n",
      "The energy of the 5P1/2 state is -2.6175355237666684 eV\n",
      "-4.6177032511225065\n"
     ]
    }
   ],
   "source": [
    "# Rb 원자의 에너지 레벨 계산\n",
    "energy1 = atom.getEnergy(n=5, l=0, j=1/2,s=1/2)\n",
    "energy2 = atom.getEnergy(n=5, l=1, j=1/2,s=1/2)\n",
    "print(f\"The energy of the 5S1/2 state is {energy1} eV\")\n",
    "print(f\"The energy of the 5P1/2 state is {energy2} eV\")\n",
    "\n",
    "\n",
    "RydbergConstant = atom.scaledRydbergConstant\n",
    "energy5S = -RydbergConstant / ((5- defect1) ** 2)\n",
    "print(energy5S)"
   ]
  },
  {
   "cell_type": "code",
   "execution_count": 9,
   "id": "1ce89d59",
   "metadata": {},
   "outputs": [
    {
     "data": {
      "text/plain": [
       "7.949789299450962e-07"
      ]
     },
     "execution_count": 9,
     "metadata": {},
     "output_type": "execute_result"
    }
   ],
   "source": [
    "C_h*C_c / (abs(energy1-energy2)*C_e)"
   ]
  },
  {
   "cell_type": "code",
   "execution_count": 10,
   "id": "0e695764",
   "metadata": {},
   "outputs": [
    {
     "data": {
      "text/plain": [
       "1.5595910000000002"
      ]
     },
     "execution_count": 10,
     "metadata": {},
     "output_type": "execute_result"
    }
   ],
   "source": [
    "abs(energy1-energy2)"
   ]
  },
  {
   "cell_type": "code",
   "execution_count": 35,
   "id": "dbb2e936",
   "metadata": {
    "scrolled": true
   },
   "outputs": [
    {
     "name": "stdout",
     "output_type": "stream",
     "text": [
      "3.1822614821801163\n",
      "2.7076163449135167\n",
      "1.302887722724843\n",
      "0.013096622058855924\n",
      "3.270029275206541\n",
      "2.710108555223957\n"
     ]
    }
   ],
   "source": [
    "defect1 = atom.getQuantumDefect(n=5, l=0, j=1/2, s=1/2)\n",
    "defect2 = atom.getQuantumDefect(n=5, l=1, j=1/2)\n",
    "\n",
    "print(defect1)\n",
    "print(defect2)\n",
    "\n",
    "defect1_2 = atom.getQuantumDefect(n=5, l=2, j=3/2)\n",
    "defect2_2 = atom.getQuantumDefect(n=5, l=3, j=1/2)\n",
    "print(defect1_2)\n",
    "print(defect2_2)\n",
    "\n",
    "defect_total_0 = defect1 + (defect1_2 / ((5-defect1)**2))\n",
    "defect_total_1 = defect2 + (defect2_2 / (5-defect2)**2)\n",
    "\n",
    "print(defect_total_0)\n",
    "print(defect_total_1)"
   ]
  },
  {
   "cell_type": "code",
   "execution_count": 21,
   "id": "24db54b8",
   "metadata": {},
   "outputs": [
    {
     "name": "stdout",
     "output_type": "stream",
     "text": [
      "6.62607015e-34\n",
      "1.602176634e-19\n",
      "299792458.0\n"
     ]
    }
   ],
   "source": [
    "print(C_h)\n",
    "print(C_e)\n",
    "print(C_c)"
   ]
  },
  {
   "cell_type": "code",
   "execution_count": 22,
   "id": "8092169f",
   "metadata": {},
   "outputs": [
    {
     "name": "stdout",
     "output_type": "stream",
     "text": [
      "Scaled Rydberg constant for Rubidium,: 13.605605218602195 eV\n"
     ]
    }
   ],
   "source": [
    "print(f\"Scaled Rydberg constant for Rubidium,: {atom.scaledRydbergConstant} eV\")\n"
   ]
  },
  {
   "cell_type": "code",
   "execution_count": 18,
   "id": "fc5df32f",
   "metadata": {},
   "outputs": [
    {
     "data": {
      "text/plain": [
       "3.1894954523364913"
      ]
     },
     "execution_count": 18,
     "metadata": {},
     "output_type": "execute_result"
    }
   ],
   "source": [
    "3.13109 + (0.204 / (5-3.13109)**2) + (-1.8 / (5-313109)**4)"
   ]
  },
  {
   "cell_type": "code",
   "execution_count": null,
   "id": "65f663be",
   "metadata": {},
   "outputs": [],
   "source": []
  }
 ],
 "metadata": {
  "kernelspec": {
   "display_name": "Python 3 (ipykernel)",
   "language": "python",
   "name": "python3"
  },
  "language_info": {
   "codemirror_mode": {
    "name": "ipython",
    "version": 3
   },
   "file_extension": ".py",
   "mimetype": "text/x-python",
   "name": "python",
   "nbconvert_exporter": "python",
   "pygments_lexer": "ipython3",
   "version": "3.10.12"
  }
 },
 "nbformat": 4,
 "nbformat_minor": 5
}
