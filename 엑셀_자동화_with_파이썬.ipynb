{
 "cells": [
  {
   "cell_type": "markdown",
   "id": "f627c4b5",
   "metadata": {},
   "source": [
    "액셀 자동화 with 파이썬 깃허브 주소\n",
    "https://github.com/wikibook/pyexcel?tab=readme-ov-file"
   ]
  },
  {
   "cell_type": "markdown",
   "id": "6eb98494",
   "metadata": {},
   "source": [
    "# 4. 파일 읽고 쓰기와 문자열 처리\n",
    "## 01 파일 읽고 쓰기\n",
    "파일 읽고 쓰기 위한 기본 구조"
   ]
  },
  {
   "cell_type": "code",
   "execution_count": 3,
   "id": "bff48966",
   "metadata": {},
   "outputs": [
    {
     "name": "stdout",
     "output_type": "stream",
     "text": [
      "me\n"
     ]
    }
   ],
   "source": [
    "f = open('C:\\\\Users\\\\tjdgu\\\\15\\\\my.txt', 'r') # 파일 열기\n",
    "data = f.read() #파일의 내용 읽기\n",
    "f.close() #파일 객체(f) 닫기\n",
    "\n",
    "print(data)"
   ]
  },
  {
   "cell_type": "markdown",
   "id": "14aa5f47",
   "metadata": {},
   "source": [
    "전체 파일을 읽는 방법도 있고 한 줄씩 읽어내는 방법도 있음\n",
    "- 한 줄씩 읽어오기: readline()\n",
    "- 한 줄씩을 요소로 갖는 리스트로 읽어오기: readlines()\n",
    "\n",
    "## 파일 쓰기\n",
    "- f.write(\"쓰고 싶은거\"): 파일에 문자열 쓰기\n",
    "\n",
    "## with 문으로 파일 읽고 쓰기\n",
    "- with open(file_name[, mode, encoding = 인코딩 방식]) as f: 파일 객체(f)를 이용해 파일을 읽거나 쓰는 코드, with 문을 사용하면 수행이 끝난 후에 자동으로 파일을 닫으므로 close()가 필요없음\n",
    "\n",
    "# 5. 데이터 처리와 분석을 위한 라이브러리\n",
    "- 여기에서는 파일에 저장된 데이터를 가져와서 처리하고 분석하는 방법\n",
    "- pandas, numpy 사용\n",
    "## 01 NumPy\n",
    "## 02 pandas\n"
   ]
  },
  {
   "cell_type": "code",
   "execution_count": 4,
   "id": "b73e8c74",
   "metadata": {},
   "outputs": [
    {
     "data": {
      "text/plain": [
       "2020    14212\n",
       "2021    51632\n",
       "2022      125\n",
       "2023     2151\n",
       "dtype: int64"
      ]
     },
     "execution_count": 4,
     "metadata": {},
     "output_type": "execute_result"
    }
   ],
   "source": [
    "import pandas as pd\n",
    "# series 데이터의 구조와 생성\n",
    "# pandas의 series는 라벨이 있는 1차원 데이터 \n",
    "# s = pd.Series(data[, index = index_data])\n",
    "\n",
    "index_data = ['2020', '2021', '2022', '2023']\n",
    "data = [14212, 51632, 125, 2151]\n",
    "\n",
    "s1 = pd.Series(data, index=index_data)\n",
    "s1"
   ]
  },
  {
   "cell_type": "markdown",
   "id": "2dc93366",
   "metadata": {},
   "source": [
    "- 날짜를 일일이 지정하지 않고 시작일과 종료일을 지정하면 날짜를 자동으로 설정할 수도 있음\n",
    "## DataFrame 데이터 구조와 생성\n",
    "- 자료(data)를 담는 틀(Frame), 이를 이용하면 행과 열이 있는 표 형식의 데이터를 생성할 수 있음"
   ]
  },
  {
   "cell_type": "code",
   "execution_count": 5,
   "id": "c45089a6",
   "metadata": {},
   "outputs": [
    {
     "data": {
      "text/html": [
       "<div>\n",
       "<style scoped>\n",
       "    .dataframe tbody tr th:only-of-type {\n",
       "        vertical-align: middle;\n",
       "    }\n",
       "\n",
       "    .dataframe tbody tr th {\n",
       "        vertical-align: top;\n",
       "    }\n",
       "\n",
       "    .dataframe thead th {\n",
       "        text-align: right;\n",
       "    }\n",
       "</style>\n",
       "<table border=\"1\" class=\"dataframe\">\n",
       "  <thead>\n",
       "    <tr style=\"text-align: right;\">\n",
       "      <th></th>\n",
       "      <th>A</th>\n",
       "      <th>B</th>\n",
       "      <th>C</th>\n",
       "    </tr>\n",
       "  </thead>\n",
       "  <tbody>\n",
       "    <tr>\n",
       "      <th>2020-01-11</th>\n",
       "      <td>1</td>\n",
       "      <td>2</td>\n",
       "      <td>3</td>\n",
       "    </tr>\n",
       "    <tr>\n",
       "      <th>2020-01-12</th>\n",
       "      <td>4</td>\n",
       "      <td>5</td>\n",
       "      <td>6</td>\n",
       "    </tr>\n",
       "    <tr>\n",
       "      <th>2020-01-13</th>\n",
       "      <td>7</td>\n",
       "      <td>8</td>\n",
       "      <td>9</td>\n",
       "    </tr>\n",
       "    <tr>\n",
       "      <th>2020-01-14</th>\n",
       "      <td>10</td>\n",
       "      <td>11</td>\n",
       "      <td>12</td>\n",
       "    </tr>\n",
       "  </tbody>\n",
       "</table>\n",
       "</div>"
      ],
      "text/plain": [
       "             A   B   C\n",
       "2020-01-11   1   2   3\n",
       "2020-01-12   4   5   6\n",
       "2020-01-13   7   8   9\n",
       "2020-01-14  10  11  12"
      ]
     },
     "execution_count": 5,
     "metadata": {},
     "output_type": "execute_result"
    }
   ],
   "source": [
    "import pandas as pd\n",
    "import numpy as np\n",
    "# df = pd.DataFrame(data[, index = index_data, columns = columns_data])\n",
    "\n",
    "data = np.array([[1,2,3], [4,5,6], [7,8,9], [10,11,12]])\n",
    "index_data = pd.date_range('2020-01-11', periods=4)\n",
    "columns_data = ['A', 'B', 'C']\n",
    "pd.DataFrame(data, index=index_data, columns=columns_data)"
   ]
  },
  {
   "cell_type": "markdown",
   "id": "7bff007e",
   "metadata": {},
   "source": [
    "## 표 형식의 데이터 파일 읽고 쓰기\n",
    "- CSV 파일: comma-separated valued, 데이터 필드 사이(값과 값의 사이)를 콤마로 구분한 것을 의미"
   ]
  },
  {
   "cell_type": "code",
   "execution_count": 6,
   "id": "20a0a5f3",
   "metadata": {},
   "outputs": [],
   "source": [
    "# CSV 파일 읽고 쓰기\n",
    "# df = pd.read_csv(file_name\n",
    "#                            [, encoding = 인코딩_방식,\n",
    "#                                index_col = 열_이름 혹은 숫자,\n",
    "#                                header = 숫자(기본: 0) 혹은 None,\n",
    "#                                sep = 구분자(기본: '.'),\n",
    "#                                names = 열_이름_리스트 ])"
   ]
  },
  {
   "cell_type": "code",
   "execution_count": 7,
   "id": "3f35dd89",
   "metadata": {},
   "outputs": [],
   "source": [
    "# 엑셀 파일 읽고 쓰기\n",
    "# df = pd.read_excel(file_name\n",
    "#                            [,  sheet_name = 시트_이름(기본: 'Sheet1') 혹은 시트_번호(기본: 0),\n",
    "#                                index_col = 열_이름 혹은 숫자,\n",
    "#                                header = 숫자(기본: 0) 혹은 None,\n",
    "#                                names = 열_이름_리스트 ])"
   ]
  },
  {
   "cell_type": "markdown",
   "id": "600f3018",
   "metadata": {},
   "source": [
    "## CSV 파일 읽고 엑셀 파일로 쓰기, 엑셀 파일 읽고 CSV 파일로 쓰기\n",
    "## 표 데이터 연산\n"
   ]
  },
  {
   "cell_type": "markdown",
   "id": "95b7372d",
   "metadata": {},
   "source": [
    "## DataFrame 데이터에서 열 데이터의 값이 몇 이상인 조건을 만족하는 행 데이터를 가져오는 코드"
   ]
  },
  {
   "cell_type": "code",
   "execution_count": 8,
   "id": "61e4f8b4",
   "metadata": {},
   "outputs": [
    {
     "data": {
      "text/html": [
       "<div>\n",
       "<style scoped>\n",
       "    .dataframe tbody tr th:only-of-type {\n",
       "        vertical-align: middle;\n",
       "    }\n",
       "\n",
       "    .dataframe tbody tr th {\n",
       "        vertical-align: top;\n",
       "    }\n",
       "\n",
       "    .dataframe thead th {\n",
       "        text-align: right;\n",
       "    }\n",
       "</style>\n",
       "<table border=\"1\" class=\"dataframe\">\n",
       "  <thead>\n",
       "    <tr style=\"text-align: right;\">\n",
       "      <th></th>\n",
       "      <th>지점</th>\n",
       "      <th>1월</th>\n",
       "      <th>2월</th>\n",
       "      <th>3월</th>\n",
       "    </tr>\n",
       "  </thead>\n",
       "  <tbody>\n",
       "    <tr>\n",
       "      <th>0</th>\n",
       "      <td>서울</td>\n",
       "      <td>559</td>\n",
       "      <td>411</td>\n",
       "      <td>142</td>\n",
       "    </tr>\n",
       "    <tr>\n",
       "      <th>2</th>\n",
       "      <td>대구</td>\n",
       "      <td>325</td>\n",
       "      <td>235</td>\n",
       "      <td>654</td>\n",
       "    </tr>\n",
       "    <tr>\n",
       "      <th>4</th>\n",
       "      <td>광주</td>\n",
       "      <td>634</td>\n",
       "      <td>213</td>\n",
       "      <td>345</td>\n",
       "    </tr>\n",
       "  </tbody>\n",
       "</table>\n",
       "</div>"
      ],
      "text/plain": [
       "   지점   1월   2월   3월\n",
       "0  서울  559  411  142\n",
       "2  대구  325  235  654\n",
       "4  광주  634  213  345"
      ]
     },
     "execution_count": 8,
     "metadata": {},
     "output_type": "execute_result"
    }
   ],
   "source": [
    "dict_data = {'지점' : ['서울', '대전', '대구', '부산', '광주'],\n",
    "                        '1월' : [559, 144, 325, 12, 634],\n",
    "                        '2월' : [411, 236, 235, 654, 213],\n",
    "                        '3월' : [142, 153, 654, 234, 345]} # 딕셔너리 데이터\n",
    "\n",
    "df = pd.DataFrame(dict_data)\n",
    "df\n",
    "\n",
    "df[df['1월'] >= 300] # 1월 열 데이터의 값이 300이상이 조건을 만족하는 행 데이터를 가져오는 코드\n",
    "# 조건을 여러 개 사용해서도 가능하다"
   ]
  },
  {
   "cell_type": "markdown",
   "id": "44394fc6",
   "metadata": {},
   "source": [
    "## 행과 열 데이터를 선택하여 생성"
   ]
  },
  {
   "cell_type": "code",
   "execution_count": 9,
   "id": "9bf4813c",
   "metadata": {},
   "outputs": [
    {
     "data": {
      "text/plain": [
       "559"
      ]
     },
     "execution_count": 9,
     "metadata": {},
     "output_type": "execute_result"
    }
   ],
   "source": [
    "dict_data = {'1월' : [559, 144, 325, 12, 634],\n",
    "                        '2월' : [411, 236, 235, 654, 213],\n",
    "                        '3월' : [142, 153, 654, 234, 345]} # 딕셔너리 데이터\n",
    "\n",
    "index_data = ['a', 'b', 'c', 'd', 'e'] # 딕셔너리 데이터\n",
    "\n",
    "df = pd.DataFrame(dict_data, index = index_data)\n",
    "df\n",
    "\n",
    "# DataFrame 데이터(df)에서 index 라벨이 a인 행 데이터 중에서 1월 열의 데이터만 가져오는 코드\n",
    "df.loc['a', '1월'] # = df.iloc[0, 0]"
   ]
  },
  {
   "cell_type": "code",
   "execution_count": 10,
   "id": "e6e91856",
   "metadata": {},
   "outputs": [
    {
     "data": {
      "text/html": [
       "<div>\n",
       "<style scoped>\n",
       "    .dataframe tbody tr th:only-of-type {\n",
       "        vertical-align: middle;\n",
       "    }\n",
       "\n",
       "    .dataframe tbody tr th {\n",
       "        vertical-align: top;\n",
       "    }\n",
       "\n",
       "    .dataframe thead th {\n",
       "        text-align: right;\n",
       "    }\n",
       "</style>\n",
       "<table border=\"1\" class=\"dataframe\">\n",
       "  <thead>\n",
       "    <tr style=\"text-align: right;\">\n",
       "      <th></th>\n",
       "      <th>1월</th>\n",
       "      <th>2월</th>\n",
       "    </tr>\n",
       "  </thead>\n",
       "  <tbody>\n",
       "    <tr>\n",
       "      <th>a</th>\n",
       "      <td>559</td>\n",
       "      <td>411</td>\n",
       "    </tr>\n",
       "    <tr>\n",
       "      <th>b</th>\n",
       "      <td>144</td>\n",
       "      <td>236</td>\n",
       "    </tr>\n",
       "    <tr>\n",
       "      <th>c</th>\n",
       "      <td>325</td>\n",
       "      <td>235</td>\n",
       "    </tr>\n",
       "  </tbody>\n",
       "</table>\n",
       "</div>"
      ],
      "text/plain": [
       "    1월   2월\n",
       "a  559  411\n",
       "b  144  236\n",
       "c  325  235"
      ]
     },
     "execution_count": 10,
     "metadata": {},
     "output_type": "execute_result"
    }
   ],
   "source": [
    "# index 라벨이 a~c까지 행 데이터 중에서 A 열과 B 열의 데이터를 가져오는 코드\n",
    "#df.loc['a':'c', ['1월', '2월']] = \n",
    "df.iloc[0:3, 0:2]"
   ]
  },
  {
   "cell_type": "code",
   "execution_count": 11,
   "id": "08e7639c",
   "metadata": {},
   "outputs": [
    {
     "data": {
      "text/html": [
       "<div>\n",
       "<style scoped>\n",
       "    .dataframe tbody tr th:only-of-type {\n",
       "        vertical-align: middle;\n",
       "    }\n",
       "\n",
       "    .dataframe tbody tr th {\n",
       "        vertical-align: top;\n",
       "    }\n",
       "\n",
       "    .dataframe thead th {\n",
       "        text-align: right;\n",
       "    }\n",
       "</style>\n",
       "<table border=\"1\" class=\"dataframe\">\n",
       "  <thead>\n",
       "    <tr style=\"text-align: right;\">\n",
       "      <th></th>\n",
       "      <th>1월</th>\n",
       "      <th>2월</th>\n",
       "      <th>3월</th>\n",
       "      <th>4월</th>\n",
       "    </tr>\n",
       "  </thead>\n",
       "  <tbody>\n",
       "    <tr>\n",
       "      <th>a</th>\n",
       "      <td>559</td>\n",
       "      <td>411</td>\n",
       "      <td>142</td>\n",
       "      <td>50.0</td>\n",
       "    </tr>\n",
       "    <tr>\n",
       "      <th>b</th>\n",
       "      <td>144</td>\n",
       "      <td>236</td>\n",
       "      <td>153</td>\n",
       "      <td>50.0</td>\n",
       "    </tr>\n",
       "    <tr>\n",
       "      <th>c</th>\n",
       "      <td>325</td>\n",
       "      <td>235</td>\n",
       "      <td>654</td>\n",
       "      <td>NaN</td>\n",
       "    </tr>\n",
       "    <tr>\n",
       "      <th>d</th>\n",
       "      <td>12</td>\n",
       "      <td>654</td>\n",
       "      <td>234</td>\n",
       "      <td>NaN</td>\n",
       "    </tr>\n",
       "    <tr>\n",
       "      <th>e</th>\n",
       "      <td>634</td>\n",
       "      <td>213</td>\n",
       "      <td>345</td>\n",
       "      <td>NaN</td>\n",
       "    </tr>\n",
       "  </tbody>\n",
       "</table>\n",
       "</div>"
      ],
      "text/plain": [
       "    1월   2월   3월    4월\n",
       "a  559  411  142  50.0\n",
       "b  144  236  153  50.0\n",
       "c  325  235  654   NaN\n",
       "d   12  654  234   NaN\n",
       "e  634  213  345   NaN"
      ]
     },
     "execution_count": 11,
     "metadata": {},
     "output_type": "execute_result"
    }
   ],
   "source": [
    "# DataFrame 데이터에 대해 loc로 선택한 행과 열 데이터에 스칼라 값을 지정할 때 열 이름이 기존 DataFrame 데이터에 없다면\n",
    "# 열 이름을 생성해 열 데이터를 추가하는 코드\n",
    "df.loc[df['3월']<200, '4월'] = 50\n",
    "df"
   ]
  },
  {
   "cell_type": "code",
   "execution_count": null,
   "id": "477d570b",
   "metadata": {},
   "outputs": [],
   "source": []
  },
  {
   "cell_type": "markdown",
   "id": "f17424ee",
   "metadata": {},
   "source": [
    "# 6. 엑셀 파일을 다루는 라이브러리\n",
    "### openpyxl, XlsxWriter, xlwings 등과 같이 엑셀을 전문적으로 다루는 라이브러리를 사용해야 엑셀의 셀 지정(셀의 배경색 지정, 글꼴 색이나 크기 지정, 테두리 지정 등)을 할 수 있음"
   ]
  },
  {
   "cell_type": "markdown",
   "id": "2f0be7d0",
   "metadata": {},
   "source": [
    "## 01 XlsxWriter로 엑셀 파일 생성"
   ]
  },
  {
   "cell_type": "code",
   "execution_count": 12,
   "id": "d3fc4059",
   "metadata": {},
   "outputs": [],
   "source": [
    "import xlsxwriter # anaconda에 \"pip install Xlsxwriter\"라고 입력해서 설치해야 한다.\n",
    "\n",
    "# workbook = xlsxwriter.Workbook(excel_file) # 생성할 엑셀 파일이름을 지정해 워크북 객체 생성\n",
    "\n",
    "# worksheet = workbook.add_worksheet([worksheet_name]) # 워크북 내에 사용할 워크시트 생성\n",
    "\n",
    "# worksheet.write(row, col, cell_data) # 셀 행과 열의 위치로 지정\n",
    "                        #혹은\n",
    "# worksheet.write(cell_address, cell_data) # 셀 주소로 지정\n",
    "\n",
    "# workbook.close() # 워크북 객체를 닫고 엑셀 파일 생성"
   ]
  },
  {
   "cell_type": "code",
   "execution_count": 13,
   "id": "f3166882",
   "metadata": {},
   "outputs": [
    {
     "name": "stdout",
     "output_type": "stream",
     "text": [
      "생성한 엑셀 파일: C:\\Users\\tjdgu\\0\\DS0000.xlsx\n"
     ]
    }
   ],
   "source": [
    "# 많은 셀에 다양한 형식의 데이터를 쓰는 코드, Excel file을 생성함\n",
    "import xlsxwriter\n",
    "\n",
    "# 엑셀 파일 경로\n",
    "folder = 'C:\\\\Users\\\\tjdgu\\\\0\\\\'                   #엑셀 파일이 있는 주소\n",
    "excel_file = folder + 'DS0000.xlsx'          #엑셀 파일을 만들어서 이름을 입력\n",
    "\n",
    "workbook = xlsxwriter.Workbook(excel_file) #워크북 객체 생성\n",
    "worksheet = workbook.add_worksheet() # 워크시트 생성\n",
    "\n",
    "# 행과 열의 위치로 셀을 지정해 데이터 입력\n",
    "worksheet.write(0,0,100)\n",
    "worksheet.write(1, 0,3.14)\n",
    "worksheet.write(2,0,'헤이')\n",
    "worksheet.write(3,0,'=COS(PI()/4)')\n",
    "worksheet.write(4,0,' ')\n",
    "worksheet.write(5,0, None)\n",
    "\n",
    "# 주소로 셀을 지정해 데이터 입력\n",
    "worksheet.write('B1', '< 숫자 입력')\n",
    "worksheet.write('B2', '< 숫자 입력')\n",
    "worksheet.write('B3', '< 문자열 입력')\n",
    "worksheet.write('B4', '< 엑셀 함수 계산 결과 입력')\n",
    "worksheet.write('B5', '< 빈 문자로 공백 입력')\n",
    "worksheet.write('B6', '< None으로 공백 입력')\n",
    "\n",
    "workbook.close() # 워크북 객체를 닫고 엑셀 파일 생성\n",
    "\n",
    "print(\"생성한 엑셀 파일:\", excel_file) # 생성한 파일 이름 출력\n",
    "# 생성된 파일을 보면 위에 적힌 내용이 적혀있다"
   ]
  },
  {
   "cell_type": "markdown",
   "id": "66b64bb6",
   "metadata": {},
   "source": [
    "### 나머지의 내용들은 엑셀 내부에서 간단하게 처리할 수 있는 방법들이라 굳이 파이썬에 코드를 입력해서 번거롭게 할 이유는 없다고 생각함\n",
    "어떤 예시가 있냐면 \n",
    "1. 이미지 파일을 엑셀에 넣어서 이미지의 크기 조정 방법\n",
    "2. 텍스트 상자 삽입\n",
    "3. 행과 열의 높이, 너비 지정\n",
    "4. 숫자 표시 관련 서식 지정 인덱스와 문자열, 예시) 정수로 표시, 소수점 둘째 자리까지 반올림해 표시, % 기호와 함께 정수만 표시 등\n",
    "등등 굳이 파이썬 코드로 해서 번거롭게 안해도 된다."
   ]
  },
  {
   "cell_type": "markdown",
   "id": "10b3972a",
   "metadata": {},
   "source": [
    "## 02 파이썬으로 엑셀과 상호 작용할 수 있는 xlwings"
   ]
  },
  {
   "cell_type": "markdown",
   "id": "a153eea1",
   "metadata": {},
   "source": [
    "### 엑셀이 설치돼 있어야 이용 가능, 파이썬 코드로 엑셀 파일에 쓰기, 내용도 읽을 수 있음\n",
    "### 무료, 유료 버전이 존재, 근데 무료 버전으로도 왠만한 것은 다 가능"
   ]
  },
  {
   "cell_type": "code",
   "execution_count": 14,
   "id": "506eabde",
   "metadata": {},
   "outputs": [],
   "source": [
    "import xlwings as xw\n",
    "\n",
    "# wb = xw.Book() #새로운 워크북(엑셀 파일)을 생성\n",
    "\n",
    "# wb = xw.Book(excel_file) # 기존에 있는 엑셀 파일(excel_file)을 열기\n",
    "\n",
    "# sht = wb.sheets[sheet_name] # 워크시트 지정\n",
    "\n",
    "# sht.range((row, col)) .value =  cell_data #셀에 데이터 쓰기\n",
    "                        # 혹은\n",
    "# sht.range(cell_address) .value = cell_data # 셀에 데이터 쓰기\n",
    "\n",
    "\n",
    "# cell_data = sht.range((row, col)) .value  #셀에 데이터 읽기\n",
    "                        # 혹은\n",
    "# cell_data = sht.range(cell_address) .value # 셀에 데이터 읽기\n",
    " \n",
    "# wb.save(excel_file) # 엑셀 파일 저장\n",
    "\n",
    "# wb.close()"
   ]
  },
  {
   "cell_type": "code",
   "execution_count": 15,
   "id": "939fe5f7",
   "metadata": {},
   "outputs": [],
   "source": [
    "import xlwings as xw\n",
    "\n",
    "wb = xw.Book() # 새로운 엑셀 파일 생성\n",
    "\n",
    "sht = wb.sheets['Sheet1']\n",
    "\n",
    "sht.range((1,1)) .value = 100\n",
    "sht.range((2,1)) .value = 3.14\n",
    "sht.range((3,1)) .value = \"안녕\"\n",
    "\n",
    "sht.range('C1') .value = '데이터 1'\n",
    "sht.range('C2') .value = '데이터 2'\n",
    "sht.range('C3') .value = '데이터 3'\n",
    "sht.range('C4') .value = '합계'\n",
    "\n",
    "sht.range('D1') .value = 10\n",
    "sht.range('D2') .value = 20\n",
    "sht.range('D3') .value = 130\n",
    "sht.range('D4') .value = '=sum(D1:D3)'\n",
    "\n",
    "# 이 코드를 실행하면 바로 엑셀 파일이 만들어져서 바로바로 나타내기 때문에 xlsxwriter보다 좋다고 생각됨"
   ]
  },
  {
   "cell_type": "markdown",
   "id": "1cc2369d",
   "metadata": {},
   "source": [
    "1. xlwings로 리스트 데이터, 넘파이 배열 데이터, 판다스의 series나 DataFrame 데이터를 워크시트에 표현\n",
    "2. 워크시트의 데이터를 파이썬에서 읽기 \n",
    "3. xlwings로 엑셀 파일 출력하기 (프린터로 출력하거나 PDF 파일로 출력"
   ]
  },
  {
   "cell_type": "code",
   "execution_count": null,
   "id": "67f6c4c5",
   "metadata": {},
   "outputs": [],
   "source": []
  },
  {
   "cell_type": "markdown",
   "id": "50579315",
   "metadata": {},
   "source": [
    "# 7. 엑셀 파일과 데이터 다루기\n",
    "## 01 파이썬을 이용한 엑셀 파일 처리 과정"
   ]
  },
  {
   "cell_type": "markdown",
   "id": "61a507af",
   "metadata": {},
   "source": [
    "엑셀을 사용해서 데이터를 다룰 때, 엑셀 함수를 이용해 데이터 처리와 분석을 하면 원본 데이터의 손상, 효율적이지 못하는 경우가 허다하다\n",
    "이를 파이썬을 이용해 효율화하는 방법은 \n",
    "1. 먼저 작성된 데이터 파일을 파이썬으로 읽고,\n",
    "2. 파이썬에서 데이터를 처리, 분석한 후에 원하는 형식으로 출력하는 것"
   ]
  },
  {
   "cell_type": "markdown",
   "id": "28e4ebd6",
   "metadata": {},
   "source": [
    "## 02 엑셀 파일 통합"
   ]
  },
  {
   "cell_type": "code",
   "execution_count": 16,
   "id": "a1578c0b",
   "metadata": {},
   "outputs": [
    {
     "name": "stdout",
     "output_type": "stream",
     "text": [
      "C:\\Users\\tjdgu\\0\\상반기_제품_판매량_김민영.xlsx\n",
      "C:\\Users\\tjdgu\\0\\상반기_제품_판매량_박준서.xlsx\n",
      "C:\\Users\\tjdgu\\0\\상반기_제품_판매량_이재정.xlsx\n"
     ]
    }
   ],
   "source": [
    "# 여러 개의 데이터 파일을 하나로 통합\n",
    "# 엑셀 파일로 지역별 담당자가 제품별 판매 현황을 작성해 보내왔고 이 파일은 별도 디렉터리에 저장한다고 가정\n",
    "from pathlib import Path\n",
    "\n",
    "input_folder = 'C:\\\\Users\\\\tjdgu\\\\0' #원본 데이터 폴더\n",
    "raw_data_dir = Path(input_folder)\n",
    "excel_files = raw_data_dir.glob('상반기_제품_판매량_*') # 폴더 내 데이터 파일 이름\n",
    "\n",
    "for excel_file in excel_files:\n",
    "    print(excel_file) #원본 데이터 파일 경로 출력"
   ]
  },
  {
   "cell_type": "code",
   "execution_count": 17,
   "id": "ec21c8f9",
   "metadata": {},
   "outputs": [
    {
     "data": {
      "text/html": [
       "<div>\n",
       "<style scoped>\n",
       "    .dataframe tbody tr th:only-of-type {\n",
       "        vertical-align: middle;\n",
       "    }\n",
       "\n",
       "    .dataframe tbody tr th {\n",
       "        vertical-align: top;\n",
       "    }\n",
       "\n",
       "    .dataframe thead th {\n",
       "        text-align: right;\n",
       "    }\n",
       "</style>\n",
       "<table border=\"1\" class=\"dataframe\">\n",
       "  <thead>\n",
       "    <tr style=\"text-align: right;\">\n",
       "      <th></th>\n",
       "      <th>제품별</th>\n",
       "      <th>담당자</th>\n",
       "      <th>지역</th>\n",
       "      <th>1월</th>\n",
       "      <th>2월</th>\n",
       "      <th>3월</th>\n",
       "      <th>4월</th>\n",
       "      <th>5월</th>\n",
       "      <th>6월</th>\n",
       "    </tr>\n",
       "  </thead>\n",
       "  <tbody>\n",
       "    <tr>\n",
       "      <th>0</th>\n",
       "      <td>스마트폰</td>\n",
       "      <td>김민영</td>\n",
       "      <td>나</td>\n",
       "      <td>123</td>\n",
       "      <td>632</td>\n",
       "      <td>366</td>\n",
       "      <td>462</td>\n",
       "      <td>786</td>\n",
       "      <td>385</td>\n",
       "    </tr>\n",
       "    <tr>\n",
       "      <th>1</th>\n",
       "      <td>TV</td>\n",
       "      <td>김민영</td>\n",
       "      <td>나</td>\n",
       "      <td>56</td>\n",
       "      <td>77</td>\n",
       "      <td>56</td>\n",
       "      <td>56</td>\n",
       "      <td>45</td>\n",
       "      <td>46</td>\n",
       "    </tr>\n",
       "    <tr>\n",
       "      <th>2</th>\n",
       "      <td>냉장고</td>\n",
       "      <td>김민영</td>\n",
       "      <td>나</td>\n",
       "      <td>35</td>\n",
       "      <td>47</td>\n",
       "      <td>38</td>\n",
       "      <td>18</td>\n",
       "      <td>86</td>\n",
       "      <td>46</td>\n",
       "    </tr>\n",
       "    <tr>\n",
       "      <th>3</th>\n",
       "      <td>스마트폰</td>\n",
       "      <td>박준서</td>\n",
       "      <td>다</td>\n",
       "      <td>123</td>\n",
       "      <td>242</td>\n",
       "      <td>745</td>\n",
       "      <td>462</td>\n",
       "      <td>123</td>\n",
       "      <td>385</td>\n",
       "    </tr>\n",
       "    <tr>\n",
       "      <th>4</th>\n",
       "      <td>TV</td>\n",
       "      <td>박준서</td>\n",
       "      <td>다</td>\n",
       "      <td>56</td>\n",
       "      <td>77</td>\n",
       "      <td>56</td>\n",
       "      <td>56</td>\n",
       "      <td>45</td>\n",
       "      <td>46</td>\n",
       "    </tr>\n",
       "    <tr>\n",
       "      <th>5</th>\n",
       "      <td>냉장고</td>\n",
       "      <td>박준서</td>\n",
       "      <td>다</td>\n",
       "      <td>35</td>\n",
       "      <td>47</td>\n",
       "      <td>38</td>\n",
       "      <td>18</td>\n",
       "      <td>86</td>\n",
       "      <td>46</td>\n",
       "    </tr>\n",
       "    <tr>\n",
       "      <th>6</th>\n",
       "      <td>스마트폰</td>\n",
       "      <td>이재정</td>\n",
       "      <td>가</td>\n",
       "      <td>123</td>\n",
       "      <td>432</td>\n",
       "      <td>123</td>\n",
       "      <td>132</td>\n",
       "      <td>176</td>\n",
       "      <td>175</td>\n",
       "    </tr>\n",
       "    <tr>\n",
       "      <th>7</th>\n",
       "      <td>TV</td>\n",
       "      <td>이재정</td>\n",
       "      <td>가</td>\n",
       "      <td>56</td>\n",
       "      <td>77</td>\n",
       "      <td>56</td>\n",
       "      <td>56</td>\n",
       "      <td>45</td>\n",
       "      <td>46</td>\n",
       "    </tr>\n",
       "    <tr>\n",
       "      <th>8</th>\n",
       "      <td>냉장고</td>\n",
       "      <td>이재정</td>\n",
       "      <td>가</td>\n",
       "      <td>35</td>\n",
       "      <td>47</td>\n",
       "      <td>38</td>\n",
       "      <td>18</td>\n",
       "      <td>86</td>\n",
       "      <td>46</td>\n",
       "    </tr>\n",
       "  </tbody>\n",
       "</table>\n",
       "</div>"
      ],
      "text/plain": [
       "    제품별  담당자 지역   1월   2월   3월   4월   5월   6월\n",
       "0  스마트폰  김민영  나  123  632  366  462  786  385\n",
       "1    TV  김민영  나   56   77   56   56   45   46\n",
       "2   냉장고  김민영  나   35   47   38   18   86   46\n",
       "3  스마트폰  박준서  다  123  242  745  462  123  385\n",
       "4    TV  박준서  다   56   77   56   56   45   46\n",
       "5   냉장고  박준서  다   35   47   38   18   86   46\n",
       "6  스마트폰  이재정  가  123  432  123  132  176  175\n",
       "7    TV  이재정  가   56   77   56   56   45   46\n",
       "8   냉장고  이재정  가   35   47   38   18   86   46"
      ]
     },
     "execution_count": 17,
     "metadata": {},
     "output_type": "execute_result"
    }
   ],
   "source": [
    "import pandas as pd\n",
    "from pathlib import Path\n",
    "\n",
    "input_folder = 'C:\\\\Users\\\\tjdgu\\\\0'  # 원본 데이터 폴더\n",
    "raw_data_dir = Path(input_folder)\n",
    "excel_files = raw_data_dir.glob('상반기_제품_판매량_*')  # 폴더 내 데이터 파일 이름\n",
    "\n",
    "dfs = []  # 각 파일로부터 읽은 DataFrame을 저장할 리스트\n",
    "\n",
    "for excel_file in excel_files:\n",
    "    df = pd.read_excel(excel_file)\n",
    "    dfs.append(df)  # 리스트에 DataFrame 추가\n",
    "\n",
    "# pd.concat을 사용하여 모든 DataFrame을 세로 방향으로 통합\n",
    "total_df = pd.concat(dfs, ignore_index=True)\n",
    "\n",
    "# 통합한 DataFrame 데이터 출력\n",
    "total_df\n"
   ]
  },
  {
   "cell_type": "markdown",
   "id": "ab3ede8b",
   "metadata": {},
   "source": [
    "### 데이터 필터링: 엑셀로 작성된 표 데이터에서 열을 기준으로 특정 항목만 선별해 보고 싶을 때 필터 기능을 이용\n",
    "이 기능을 이용해 특정 항목만 선택한 후에는 선택한 항목을 기준으로 열 데이터를 계산할 수도 있음"
   ]
  },
  {
   "cell_type": "code",
   "execution_count": 18,
   "id": "15ab7bbd",
   "metadata": {},
   "outputs": [
    {
     "data": {
      "text/html": [
       "<div>\n",
       "<style scoped>\n",
       "    .dataframe tbody tr th:only-of-type {\n",
       "        vertical-align: middle;\n",
       "    }\n",
       "\n",
       "    .dataframe tbody tr th {\n",
       "        vertical-align: top;\n",
       "    }\n",
       "\n",
       "    .dataframe thead th {\n",
       "        text-align: right;\n",
       "    }\n",
       "</style>\n",
       "<table border=\"1\" class=\"dataframe\">\n",
       "  <thead>\n",
       "    <tr style=\"text-align: right;\">\n",
       "      <th></th>\n",
       "      <th>제품별</th>\n",
       "      <th>담당자</th>\n",
       "      <th>지역</th>\n",
       "      <th>1월</th>\n",
       "      <th>2월</th>\n",
       "      <th>3월</th>\n",
       "      <th>4월</th>\n",
       "      <th>5월</th>\n",
       "      <th>6월</th>\n",
       "    </tr>\n",
       "  </thead>\n",
       "  <tbody>\n",
       "    <tr>\n",
       "      <th>1</th>\n",
       "      <td>TV</td>\n",
       "      <td>김민영</td>\n",
       "      <td>나</td>\n",
       "      <td>56</td>\n",
       "      <td>77</td>\n",
       "      <td>56</td>\n",
       "      <td>56</td>\n",
       "      <td>45</td>\n",
       "      <td>46</td>\n",
       "    </tr>\n",
       "    <tr>\n",
       "      <th>4</th>\n",
       "      <td>TV</td>\n",
       "      <td>박준서</td>\n",
       "      <td>다</td>\n",
       "      <td>56</td>\n",
       "      <td>77</td>\n",
       "      <td>56</td>\n",
       "      <td>56</td>\n",
       "      <td>45</td>\n",
       "      <td>46</td>\n",
       "    </tr>\n",
       "    <tr>\n",
       "      <th>7</th>\n",
       "      <td>TV</td>\n",
       "      <td>이재정</td>\n",
       "      <td>가</td>\n",
       "      <td>56</td>\n",
       "      <td>77</td>\n",
       "      <td>56</td>\n",
       "      <td>56</td>\n",
       "      <td>45</td>\n",
       "      <td>46</td>\n",
       "    </tr>\n",
       "  </tbody>\n",
       "</table>\n",
       "</div>"
      ],
      "text/plain": [
       "  제품별  담당자 지역  1월  2월  3월  4월  5월  6월\n",
       "1  TV  김민영  나  56  77  56  56  45  46\n",
       "4  TV  박준서  다  56  77  56  56  45  46\n",
       "7  TV  이재정  가  56  77  56  56  45  46"
      ]
     },
     "execution_count": 18,
     "metadata": {},
     "output_type": "execute_result"
    }
   ],
   "source": [
    "total_df[total_df['제품별'] .isin(['TV']) ] "
   ]
  },
  {
   "cell_type": "markdown",
   "id": "acea0ce7",
   "metadata": {},
   "source": [
    "1. 행, 열별 합계 구하기"
   ]
  },
  {
   "cell_type": "code",
   "execution_count": 19,
   "id": "b47408a9",
   "metadata": {},
   "outputs": [
    {
     "data": {
      "text/html": [
       "<div>\n",
       "<style scoped>\n",
       "    .dataframe tbody tr th:only-of-type {\n",
       "        vertical-align: middle;\n",
       "    }\n",
       "\n",
       "    .dataframe tbody tr th {\n",
       "        vertical-align: top;\n",
       "    }\n",
       "\n",
       "    .dataframe thead th {\n",
       "        text-align: right;\n",
       "    }\n",
       "</style>\n",
       "<table border=\"1\" class=\"dataframe\">\n",
       "  <thead>\n",
       "    <tr style=\"text-align: right;\">\n",
       "      <th></th>\n",
       "      <th>제품별</th>\n",
       "      <th>담당자</th>\n",
       "      <th>지역</th>\n",
       "      <th>1월</th>\n",
       "      <th>2월</th>\n",
       "      <th>3월</th>\n",
       "      <th>4월</th>\n",
       "      <th>5월</th>\n",
       "      <th>6월</th>\n",
       "    </tr>\n",
       "  </thead>\n",
       "  <tbody>\n",
       "    <tr>\n",
       "      <th>0</th>\n",
       "      <td>스마트폰</td>\n",
       "      <td>이재정</td>\n",
       "      <td>가</td>\n",
       "      <td>123</td>\n",
       "      <td>432</td>\n",
       "      <td>123</td>\n",
       "      <td>132</td>\n",
       "      <td>176</td>\n",
       "      <td>175</td>\n",
       "    </tr>\n",
       "    <tr>\n",
       "      <th>1</th>\n",
       "      <td>TV</td>\n",
       "      <td>이재정</td>\n",
       "      <td>가</td>\n",
       "      <td>56</td>\n",
       "      <td>77</td>\n",
       "      <td>56</td>\n",
       "      <td>56</td>\n",
       "      <td>45</td>\n",
       "      <td>46</td>\n",
       "    </tr>\n",
       "    <tr>\n",
       "      <th>2</th>\n",
       "      <td>냉장고</td>\n",
       "      <td>이재정</td>\n",
       "      <td>가</td>\n",
       "      <td>35</td>\n",
       "      <td>47</td>\n",
       "      <td>38</td>\n",
       "      <td>18</td>\n",
       "      <td>86</td>\n",
       "      <td>46</td>\n",
       "    </tr>\n",
       "  </tbody>\n",
       "</table>\n",
       "</div>"
      ],
      "text/plain": [
       "    제품별  담당자 지역   1월   2월   3월   4월   5월   6월\n",
       "0  스마트폰  이재정  가  123  432  123  132  176  175\n",
       "1    TV  이재정  가   56   77   56   56   45   46\n",
       "2   냉장고  이재정  가   35   47   38   18   86   46"
      ]
     },
     "execution_count": 19,
     "metadata": {},
     "output_type": "execute_result"
    }
   ],
   "source": [
    "folder =  'C:\\\\Users\\\\tjdgu\\\\0\\\\'\n",
    "excel_file = folder + '상반기_제품_판매량_이재정.xlsx'\n",
    "\n",
    "df = pd.read_excel(excel_file)\n",
    "df"
   ]
  },
  {
   "cell_type": "code",
   "execution_count": 20,
   "id": "5763488f",
   "metadata": {},
   "outputs": [
    {
     "data": {
      "text/html": [
       "<div>\n",
       "<style scoped>\n",
       "    .dataframe tbody tr th:only-of-type {\n",
       "        vertical-align: middle;\n",
       "    }\n",
       "\n",
       "    .dataframe tbody tr th {\n",
       "        vertical-align: top;\n",
       "    }\n",
       "\n",
       "    .dataframe thead th {\n",
       "        text-align: right;\n",
       "    }\n",
       "</style>\n",
       "<table border=\"1\" class=\"dataframe\">\n",
       "  <thead>\n",
       "    <tr style=\"text-align: right;\">\n",
       "      <th></th>\n",
       "      <th>제품별</th>\n",
       "      <th>담당자</th>\n",
       "      <th>지역</th>\n",
       "      <th>1월</th>\n",
       "      <th>2월</th>\n",
       "      <th>3월</th>\n",
       "      <th>4월</th>\n",
       "      <th>5월</th>\n",
       "      <th>6월</th>\n",
       "      <th>합계</th>\n",
       "    </tr>\n",
       "  </thead>\n",
       "  <tbody>\n",
       "    <tr>\n",
       "      <th>0</th>\n",
       "      <td>스마트폰</td>\n",
       "      <td>이재정</td>\n",
       "      <td>가</td>\n",
       "      <td>123</td>\n",
       "      <td>432</td>\n",
       "      <td>123</td>\n",
       "      <td>132</td>\n",
       "      <td>176</td>\n",
       "      <td>175</td>\n",
       "      <td>1161</td>\n",
       "    </tr>\n",
       "    <tr>\n",
       "      <th>1</th>\n",
       "      <td>TV</td>\n",
       "      <td>이재정</td>\n",
       "      <td>가</td>\n",
       "      <td>56</td>\n",
       "      <td>77</td>\n",
       "      <td>56</td>\n",
       "      <td>56</td>\n",
       "      <td>45</td>\n",
       "      <td>46</td>\n",
       "      <td>336</td>\n",
       "    </tr>\n",
       "    <tr>\n",
       "      <th>2</th>\n",
       "      <td>냉장고</td>\n",
       "      <td>이재정</td>\n",
       "      <td>가</td>\n",
       "      <td>35</td>\n",
       "      <td>47</td>\n",
       "      <td>38</td>\n",
       "      <td>18</td>\n",
       "      <td>86</td>\n",
       "      <td>46</td>\n",
       "      <td>270</td>\n",
       "    </tr>\n",
       "  </tbody>\n",
       "</table>\n",
       "</div>"
      ],
      "text/plain": [
       "    제품별  담당자 지역   1월   2월   3월   4월   5월   6월    합계\n",
       "0  스마트폰  이재정  가  123  432  123  132  176  175  1161\n",
       "1    TV  이재정  가   56   77   56   56   45   46   336\n",
       "2   냉장고  이재정  가   35   47   38   18   86   46   270"
      ]
     },
     "execution_count": 20,
     "metadata": {},
     "output_type": "execute_result"
    }
   ],
   "source": [
    "# 숫자형 데이터만 포함하는 열을 선택하여 합계를 계산\n",
    "numeric_df = df.select_dtypes(include=[np.number])\n",
    "df['합계'] = numeric_df.sum(axis=1)\n",
    "df"
   ]
  },
  {
   "cell_type": "markdown",
   "id": "d302a91d",
   "metadata": {},
   "source": [
    "2. 지정한 범위에서 데이터 찾아서 가져오기\n",
    "3. 조건에 따라 결과 입력하기\n",
    "### 사실상 병합을 한 이후에는 다시 엑셀로 데이터를 보내고 엑셀 내부에서 처리하면 될 것으로 생각됨. 어려운 조건 내의 코드가 없다\n",
    "# 05 엑셀 데이터 정제\n",
    "원본 데이터를 가공해 데이터 분석에 편리한 데이터로 만드는 과정을 data cleaning or data tidying 이라고 함"
   ]
  },
  {
   "cell_type": "markdown",
   "id": "3b874295",
   "metadata": {},
   "source": [
    "1. 누락 데이터 확인과 처리\n",
    "2. 데이터 추출과 정리\n",
    "\n",
    "# 06 엑셀 데이터 요약과 집계\n",
    "엑셀의 피벗 테이블은 워크시트의 데이터를 요약, 분석, 탐색하고 부분합을 계산하는 데 유용\n",
    "1. 피벗 테이블 만들기 기본\n",
    "2. 심화\n",
    "# 07 웹 페이지에서 데이터 가져오기\n",
    "1. 표 데이터 가져오기 기본\n",
    "2. 심화\n",
    "# 08 엑셀 데이터 시각화\n",
    "## 01 엑셀 차트\n",
    "이것도 엑셀 내부 함수로 정리하는 것이 오히려 편하다\n",
    "### 엑셀 차트를 파이썬으로 보여주는 코드"
   ]
  },
  {
   "cell_type": "code",
   "execution_count": 21,
   "id": "2e087814",
   "metadata": {},
   "outputs": [
    {
     "data": {
      "image/png": "[encoded data removed]",
      "text/plain": [
       "<Figure size 640x480 with 1 Axes>"
      ]
     },
     "metadata": {},
     "output_type": "display_data"
    }
   ],
   "source": [
    "import matplotlib as mpl\n",
    "%matplotlib inline\n",
    "import matplotlib.pyplot as plt\n",
    "\n",
    "mpl. rcParams['font.family'] = 'Malgun Gothic' # 맑은 고딕으로 폰트 설정\n",
    "mpl. rcParams['axes.unicode_minus'] = False # 마이너트(-) 폰트 깨짐 방지\n",
    "\n",
    "df.plot()\n",
    "plt.show()\n",
    "\n",
    "#df.plot(x='제품별', y=['1월', '2월'])\n",
    "#plt.show()"
   ]
  },
  {
   "cell_type": "code",
   "execution_count": 22,
   "id": "8fbdf878",
   "metadata": {},
   "outputs": [
    {
     "data": {
      "image/png": "[encoded data removed]",
      "text/plain": [
       "<Figure size 640x480 with 1 Axes>"
      ]
     },
     "metadata": {},
     "output_type": "display_data"
    }
   ],
   "source": [
    "ax = df.plot(grid=True, style=['r--*', 'g-o', 'b:*']) #격자의 스타일 지정\n",
    "# figsize=(4,3)은 그래프의 너비와 높이 지정\n",
    "\n",
    "ax.set_xlabel(\"연도\", fontsize=15) #x축 라벨을 지정\n",
    "ax.set_ylabel(\"생산량\", fontsize=15) #y축 라벨을 지정\n",
    "ax.set_title(\"제품 판매량\", fontsize=20) # 그래프 제목을 지정\n",
    "\n",
    "plt.show()"
   ]
  },
  {
   "cell_type": "code",
   "execution_count": 23,
   "id": "5b05f9df",
   "metadata": {},
   "outputs": [
    {
     "data": {
      "image/png": "[encoded data removed]",
      "text/plain": [
       "<Figure size 640x480 with 1 Axes>"
      ]
     },
     "metadata": {},
     "output_type": "display_data"
    }
   ],
   "source": [
    "df.plot.bar(rot=0) # 수직 막대 그래프, df.plot(kind='bar')도 동일\n",
    "plt.show()\n",
    "# 위와 동일하게 라벨 지정 가능"
   ]
  },
  {
   "cell_type": "code",
   "execution_count": 24,
   "id": "7b2843c5",
   "metadata": {},
   "outputs": [
    {
     "data": {
      "image/png": "[encoded data removed]",
      "text/plain": [
       "<Figure size 640x480 with 1 Axes>"
      ]
     },
     "metadata": {},
     "output_type": "display_data"
    }
   ],
   "source": [
    "df.plot.scatter(x='제품별', y='1월')  #산점도\n",
    "plt.show()"
   ]
  },
  {
   "cell_type": "markdown",
   "id": "64d99fb6",
   "metadata": {},
   "source": [
    "- 이후 원형 그래프, 면적 그래프(영역형 차트), 히스토그램, 박스 그래프(상자 수염 차트)\n",
    "- 그래프를 저장하고 엑셀 파일에 추가하기"
   ]
  },
  {
   "cell_type": "code",
   "execution_count": 25,
   "id": "703ba531",
   "metadata": {},
   "outputs": [
    {
     "data": {
      "image/png": "[encoded data removed]",
      "text/plain": [
       "<Figure size 1000x500 with 1 Axes>"
      ]
     },
     "metadata": {},
     "output_type": "display_data"
    }
   ],
   "source": [
    "import matplotlib as mpl\n",
    "%matplotlib inline\n",
    "import matplotlib.pyplot as plt\n",
    "\n",
    "folder =  'C:\\\\Users\\\\tjdgu\\\\0\\\\'\n",
    "excel_file = folder + '상반기_제품_판매량_이재정.xlsx'\n",
    "\n",
    "df = pd.read_excel(excel_file)\n",
    "df\n",
    "\n",
    "ax = df.plot.bar(stacked=True, rot=0, figsize=(10,5))\n",
    "ax.set_xlabel(\"연도\", fontsize=15) #x축 라벨을 지정\n",
    "ax.set_ylabel(\"생산량\", fontsize=15) #y축 라벨을 지정\n",
    "ax.set_title(\"제품 판매량\", fontsize=20) # 그래프 제목을 지정\n",
    "\n",
    "# 그래프를 이미지 파일로 저장\n",
    "plt.savefig(\"C:\\\\Users\\\\tjdgu\\\\0\\\\make.png\", dpi=1000)\n",
    "plt.show()"
   ]
  },
  {
   "cell_type": "code",
   "execution_count": 26,
   "id": "4762e51b",
   "metadata": {},
   "outputs": [
    {
     "name": "stdout",
     "output_type": "stream",
     "text": [
      "<class 'pandas.core.frame.DataFrame'>\n",
      "RangeIndex: 3 entries, 0 to 2\n",
      "Data columns (total 9 columns):\n",
      " #   Column  Non-Null Count  Dtype \n",
      "---  ------  --------------  ----- \n",
      " 0   제품별     3 non-null      object\n",
      " 1   담당자     3 non-null      object\n",
      " 2   지역      3 non-null      object\n",
      " 3   1월      3 non-null      int64 \n",
      " 4   2월      3 non-null      int64 \n",
      " 5   3월      3 non-null      int64 \n",
      " 6   4월      3 non-null      int64 \n",
      " 7   5월      3 non-null      int64 \n",
      " 8   6월      3 non-null      int64 \n",
      "dtypes: int64(6), object(3)\n",
      "memory usage: 344.0+ bytes\n"
     ]
    }
   ],
   "source": [
    "df.info()"
   ]
  },
  {
   "cell_type": "markdown",
   "id": "c1954e10",
   "metadata": {},
   "source": [
    "# 9 엑셀과 파이썬을 이용한 통계 데이터 분석\n",
    "## 01 모집단, 표준편자 구하기\n",
    "## 02 통계 데이터 분석 심화\n",
    "#### 상관 분석(correlation coefficient)\n",
    "- 두 개의 변수가 있을 때 이 둘이 선형적으로 어떠한 관계가 있는지 파악하는 것\n",
    "- 계산한 correlation coefficient를 통해 두 변수가 어떠한 관계가 있는지 알 수 있음"
   ]
  },
  {
   "cell_type": "code",
   "execution_count": 27,
   "id": "2c1c53f8",
   "metadata": {},
   "outputs": [
    {
     "data": {
      "text/html": [
       "<div>\n",
       "<style scoped>\n",
       "    .dataframe tbody tr th:only-of-type {\n",
       "        vertical-align: middle;\n",
       "    }\n",
       "\n",
       "    .dataframe tbody tr th {\n",
       "        vertical-align: top;\n",
       "    }\n",
       "\n",
       "    .dataframe thead th {\n",
       "        text-align: right;\n",
       "    }\n",
       "</style>\n",
       "<table border=\"1\" class=\"dataframe\">\n",
       "  <thead>\n",
       "    <tr style=\"text-align: right;\">\n",
       "      <th></th>\n",
       "      <th>기온</th>\n",
       "      <th>아이스커피판매량</th>\n",
       "    </tr>\n",
       "  </thead>\n",
       "  <tbody>\n",
       "    <tr>\n",
       "      <th>0</th>\n",
       "      <td>14.30</td>\n",
       "      <td>10</td>\n",
       "    </tr>\n",
       "    <tr>\n",
       "      <th>1</th>\n",
       "      <td>16.20</td>\n",
       "      <td>20</td>\n",
       "    </tr>\n",
       "    <tr>\n",
       "      <th>2</th>\n",
       "      <td>18.66</td>\n",
       "      <td>30</td>\n",
       "    </tr>\n",
       "    <tr>\n",
       "      <th>3</th>\n",
       "      <td>20.30</td>\n",
       "      <td>8</td>\n",
       "    </tr>\n",
       "    <tr>\n",
       "      <th>4</th>\n",
       "      <td>22.60</td>\n",
       "      <td>80</td>\n",
       "    </tr>\n",
       "  </tbody>\n",
       "</table>\n",
       "</div>"
      ],
      "text/plain": [
       "      기온  아이스커피판매량\n",
       "0  14.30        10\n",
       "1  16.20        20\n",
       "2  18.66        30\n",
       "3  20.30         8\n",
       "4  22.60        80"
      ]
     },
     "execution_count": 27,
     "metadata": {},
     "output_type": "execute_result"
    }
   ],
   "source": [
    "import pandas as pd\n",
    "\n",
    "# 데이터 파일의 전체 경로\n",
    "folder =  'C:\\\\Users\\\\tjdgu\\\\0\\\\'\n",
    "excel_file = folder + '아이스커피판매량.xlsx'\n",
    "\n",
    "df=pd.read_excel(excel_file)\n",
    "\n",
    "df.head()"
   ]
  },
  {
   "cell_type": "code",
   "execution_count": 28,
   "id": "1d439a36",
   "metadata": {},
   "outputs": [
    {
     "data": {
      "image/png": "[encoded data removed]",
      "text/plain": [
       "<Figure size 640x480 with 1 Axes>"
      ]
     },
     "metadata": {},
     "output_type": "display_data"
    },
    {
     "data": {
      "text/html": [
       "<div>\n",
       "<style scoped>\n",
       "    .dataframe tbody tr th:only-of-type {\n",
       "        vertical-align: middle;\n",
       "    }\n",
       "\n",
       "    .dataframe tbody tr th {\n",
       "        vertical-align: top;\n",
       "    }\n",
       "\n",
       "    .dataframe thead th {\n",
       "        text-align: right;\n",
       "    }\n",
       "</style>\n",
       "<table border=\"1\" class=\"dataframe\">\n",
       "  <thead>\n",
       "    <tr style=\"text-align: right;\">\n",
       "      <th></th>\n",
       "      <th>기온</th>\n",
       "      <th>아이스커피판매량</th>\n",
       "    </tr>\n",
       "  </thead>\n",
       "  <tbody>\n",
       "    <tr>\n",
       "      <th>기온</th>\n",
       "      <td>1.000000</td>\n",
       "      <td>0.366188</td>\n",
       "    </tr>\n",
       "    <tr>\n",
       "      <th>아이스커피판매량</th>\n",
       "      <td>0.366188</td>\n",
       "      <td>1.000000</td>\n",
       "    </tr>\n",
       "  </tbody>\n",
       "</table>\n",
       "</div>"
      ],
      "text/plain": [
       "                기온  아이스커피판매량\n",
       "기온        1.000000  0.366188\n",
       "아이스커피판매량  0.366188  1.000000"
      ]
     },
     "execution_count": 28,
     "metadata": {},
     "output_type": "execute_result"
    }
   ],
   "source": [
    "ax_scatter = df.plot.scatter(x='기온', y='아이스커피판매량', grid=True)\n",
    "\n",
    "ax_scatter.set_xlabel(\"기온(섭씨)\", fontsize=15)\n",
    "ax_scatter.set_ylabel(\"아이스커피판매량\", fontsize=15)\n",
    "ax_scatter.set_title(\"기온별 아이스커피판매량\", fontsize=25)\n",
    "\n",
    "plt.show()\n",
    "\n",
    "df.corr() #DataFrame 데이터(df)의 상관계수 구하기"
   ]
  },
  {
   "cell_type": "code",
   "execution_count": 29,
   "id": "7c288240",
   "metadata": {},
   "outputs": [
    {
     "data": {
      "text/html": [
       "<div>\n",
       "<style scoped>\n",
       "    .dataframe tbody tr th:only-of-type {\n",
       "        vertical-align: middle;\n",
       "    }\n",
       "\n",
       "    .dataframe tbody tr th {\n",
       "        vertical-align: top;\n",
       "    }\n",
       "\n",
       "    .dataframe thead th {\n",
       "        text-align: right;\n",
       "    }\n",
       "</style>\n",
       "<table border=\"1\" class=\"dataframe\">\n",
       "  <thead>\n",
       "    <tr style=\"text-align: right;\">\n",
       "      <th></th>\n",
       "      <th>기온</th>\n",
       "      <th>커피판매량1</th>\n",
       "      <th>커피판매량2</th>\n",
       "      <th>커피판매량3</th>\n",
       "      <th>커피판매량4</th>\n",
       "    </tr>\n",
       "  </thead>\n",
       "  <tbody>\n",
       "    <tr>\n",
       "      <th>0</th>\n",
       "      <td>14.30</td>\n",
       "      <td>10</td>\n",
       "      <td>234</td>\n",
       "      <td>3543</td>\n",
       "      <td>213</td>\n",
       "    </tr>\n",
       "    <tr>\n",
       "      <th>1</th>\n",
       "      <td>16.20</td>\n",
       "      <td>20</td>\n",
       "      <td>123</td>\n",
       "      <td>4</td>\n",
       "      <td>54</td>\n",
       "    </tr>\n",
       "    <tr>\n",
       "      <th>2</th>\n",
       "      <td>18.66</td>\n",
       "      <td>30</td>\n",
       "      <td>23</td>\n",
       "      <td>34</td>\n",
       "      <td>7564</td>\n",
       "    </tr>\n",
       "    <tr>\n",
       "      <th>3</th>\n",
       "      <td>20.30</td>\n",
       "      <td>8</td>\n",
       "      <td>25</td>\n",
       "      <td>346</td>\n",
       "      <td>75</td>\n",
       "    </tr>\n",
       "    <tr>\n",
       "      <th>4</th>\n",
       "      <td>22.60</td>\n",
       "      <td>80</td>\n",
       "      <td>346</td>\n",
       "      <td>6</td>\n",
       "      <td>56</td>\n",
       "    </tr>\n",
       "  </tbody>\n",
       "</table>\n",
       "</div>"
      ],
      "text/plain": [
       "      기온  커피판매량1  커피판매량2  커피판매량3  커피판매량4\n",
       "0  14.30      10     234    3543     213\n",
       "1  16.20      20     123       4      54\n",
       "2  18.66      30      23      34    7564\n",
       "3  20.30       8      25     346      75\n",
       "4  22.60      80     346       6      56"
      ]
     },
     "execution_count": 29,
     "metadata": {},
     "output_type": "execute_result"
    }
   ],
   "source": [
    "import pandas as pd\n",
    "\n",
    "# 데이터 파일의 전체 경로\n",
    "folder =  'C:\\\\Users\\\\tjdgu\\\\0\\\\'\n",
    "excel_file = folder + '커피판매량.xlsx'\n",
    "\n",
    "df=pd.read_excel(excel_file)\n",
    "\n",
    "df.head()"
   ]
  },
  {
   "cell_type": "code",
   "execution_count": 30,
   "id": "ee7263d7",
   "metadata": {},
   "outputs": [
    {
     "data": {
      "text/html": [
       "<div>\n",
       "<style scoped>\n",
       "    .dataframe tbody tr th:only-of-type {\n",
       "        vertical-align: middle;\n",
       "    }\n",
       "\n",
       "    .dataframe tbody tr th {\n",
       "        vertical-align: top;\n",
       "    }\n",
       "\n",
       "    .dataframe thead th {\n",
       "        text-align: right;\n",
       "    }\n",
       "</style>\n",
       "<table border=\"1\" class=\"dataframe\">\n",
       "  <thead>\n",
       "    <tr style=\"text-align: right;\">\n",
       "      <th></th>\n",
       "      <th>기온</th>\n",
       "      <th>커피판매량1</th>\n",
       "      <th>커피판매량2</th>\n",
       "      <th>커피판매량3</th>\n",
       "      <th>커피판매량4</th>\n",
       "    </tr>\n",
       "  </thead>\n",
       "  <tbody>\n",
       "    <tr>\n",
       "      <th>기온</th>\n",
       "      <td>1.000000</td>\n",
       "      <td>0.366188</td>\n",
       "      <td>-0.372495</td>\n",
       "      <td>-0.374842</td>\n",
       "      <td>-0.215807</td>\n",
       "    </tr>\n",
       "    <tr>\n",
       "      <th>커피판매량1</th>\n",
       "      <td>0.366188</td>\n",
       "      <td>1.000000</td>\n",
       "      <td>0.219644</td>\n",
       "      <td>-0.385600</td>\n",
       "      <td>-0.029098</td>\n",
       "    </tr>\n",
       "    <tr>\n",
       "      <th>커피판매량2</th>\n",
       "      <td>-0.372495</td>\n",
       "      <td>0.219644</td>\n",
       "      <td>1.000000</td>\n",
       "      <td>0.249942</td>\n",
       "      <td>-0.308679</td>\n",
       "    </tr>\n",
       "    <tr>\n",
       "      <th>커피판매량3</th>\n",
       "      <td>-0.374842</td>\n",
       "      <td>-0.385600</td>\n",
       "      <td>0.249942</td>\n",
       "      <td>1.000000</td>\n",
       "      <td>-0.168376</td>\n",
       "    </tr>\n",
       "    <tr>\n",
       "      <th>커피판매량4</th>\n",
       "      <td>-0.215807</td>\n",
       "      <td>-0.029098</td>\n",
       "      <td>-0.308679</td>\n",
       "      <td>-0.168376</td>\n",
       "      <td>1.000000</td>\n",
       "    </tr>\n",
       "  </tbody>\n",
       "</table>\n",
       "</div>"
      ],
      "text/plain": [
       "              기온    커피판매량1    커피판매량2    커피판매량3    커피판매량4\n",
       "기온      1.000000  0.366188 -0.372495 -0.374842 -0.215807\n",
       "커피판매량1  0.366188  1.000000  0.219644 -0.385600 -0.029098\n",
       "커피판매량2 -0.372495  0.219644  1.000000  0.249942 -0.308679\n",
       "커피판매량3 -0.374842 -0.385600  0.249942  1.000000 -0.168376\n",
       "커피판매량4 -0.215807 -0.029098 -0.308679 -0.168376  1.000000"
      ]
     },
     "execution_count": 30,
     "metadata": {},
     "output_type": "execute_result"
    },
    {
     "data": {
      "image/png": "[encoded data removed]",
      "text/plain": [
       "<Figure size 800x800 with 25 Axes>"
      ]
     },
     "metadata": {},
     "output_type": "display_data"
    }
   ],
   "source": [
    "from pandas.plotting import scatter_matrix\n",
    "\n",
    "# 두 개의 변수 간의 산점도와 한 변수에 대한 히스토그램 표시\n",
    "# (alpha 옵션은 0~1 사이의 실수로 지정)\n",
    "scatter_matrix(df, alpha=1, figsize=(8,8))\n",
    "plt.show\n",
    "\n",
    "df.corr()"
   ]
  },
  {
   "cell_type": "markdown",
   "id": "e53c0f20",
   "metadata": {},
   "source": [
    "# 회귀 분석\n",
    "관측한 변수들에 대해 독립 변수 x와 종속 변수 y 사이의 관계를 수학적 모델을 만들어 미래를 예측하는 regression analysis\n",
    "linear regression model을 볼 것임"
   ]
  },
  {
   "cell_type": "markdown",
   "id": "dd36ad13",
   "metadata": {},
   "source": [
    "from sklearn.linear_model import LinearRegression\n",
    "\n",
    "model = LinearRegression() # LinearRegression 객체(model)을 생성\n",
    "\n",
    "model.fit(X, y) # fit() 메서드로 회귀 분석 수행. 입력은 X, y\n",
    "\n",
    "y_hat = model.predict(X_new) # predict() 메서드로 입력 X_new에 대한 y_hat 추정"
   ]
  },
  {
   "cell_type": "markdown",
   "id": "1e2856ea",
   "metadata": {},
   "source": [
    "- 관측한 표본에서 하나의 독립 변수 x와 종속 변수 y가 있을 때 선형 회귀 모델(단순 선형 회귀 모델)은 다음과 같이 정의\n",
    "$ y_i = \\beta_0 + \\beta_1  x_{1i} + \\epsilon_i $\n",
    "- $x_i, y_i$는 각각 변수 x와 y의 i번째 관측값, $\\beta_0, \\beta_1$는 추정해야 하는 파라미터, $\\epsilon_i$는 i번째 오차(error)\n",
    "- $\\beta_0, \\beta_1$는 모든 관측값에 대해 오차 제곱의 합을 최소화하는 값으로 결정\n",
    "- $\\beta_0 $를 상수항 혹은 y 절편\n",
    "- $\\beta_1$는 x의 가중치(직선의 기울기)\n",
    "\n",
    "- 독립 변수가 여러 개일 때 두 개 이상의 독립 변수 $x_1, ... , x_p$와 종속 변수 y가 있을 때 다중 선형 회귀 모델은\n",
    "$ y_i = \\beta_0 + \\beta_1  x_{1i} + ... +\\beta_{p}  x_{pi} + \\epsilon_i $"
   ]
  },
  {
   "cell_type": "code",
   "execution_count": 31,
   "id": "edec7287",
   "metadata": {},
   "outputs": [
    {
     "data": {
      "text/html": [
       "<div>\n",
       "<style scoped>\n",
       "    .dataframe tbody tr th:only-of-type {\n",
       "        vertical-align: middle;\n",
       "    }\n",
       "\n",
       "    .dataframe tbody tr th {\n",
       "        vertical-align: top;\n",
       "    }\n",
       "\n",
       "    .dataframe thead th {\n",
       "        text-align: right;\n",
       "    }\n",
       "</style>\n",
       "<table border=\"1\" class=\"dataframe\">\n",
       "  <thead>\n",
       "    <tr style=\"text-align: right;\">\n",
       "      <th></th>\n",
       "      <th>기온</th>\n",
       "      <th>아이스커피판매량</th>\n",
       "    </tr>\n",
       "  </thead>\n",
       "  <tbody>\n",
       "    <tr>\n",
       "      <th>0</th>\n",
       "      <td>14.30</td>\n",
       "      <td>10</td>\n",
       "    </tr>\n",
       "    <tr>\n",
       "      <th>1</th>\n",
       "      <td>16.20</td>\n",
       "      <td>20</td>\n",
       "    </tr>\n",
       "    <tr>\n",
       "      <th>2</th>\n",
       "      <td>18.66</td>\n",
       "      <td>30</td>\n",
       "    </tr>\n",
       "    <tr>\n",
       "      <th>3</th>\n",
       "      <td>20.30</td>\n",
       "      <td>8</td>\n",
       "    </tr>\n",
       "    <tr>\n",
       "      <th>4</th>\n",
       "      <td>22.60</td>\n",
       "      <td>80</td>\n",
       "    </tr>\n",
       "  </tbody>\n",
       "</table>\n",
       "</div>"
      ],
      "text/plain": [
       "      기온  아이스커피판매량\n",
       "0  14.30        10\n",
       "1  16.20        20\n",
       "2  18.66        30\n",
       "3  20.30         8\n",
       "4  22.60        80"
      ]
     },
     "execution_count": 31,
     "metadata": {},
     "output_type": "execute_result"
    }
   ],
   "source": [
    "import pandas as pd\n",
    "\n",
    "# 데이터 파일의 전체 경로\n",
    "folder =  'C:\\\\Users\\\\tjdgu\\\\0\\\\'\n",
    "excel_file = folder + '아이스커피판매량.xlsx'\n",
    "\n",
    "df=pd.read_excel(excel_file)\n",
    "\n",
    "df.head()"
   ]
  },
  {
   "cell_type": "code",
   "execution_count": 33,
   "id": "3f7564cc",
   "metadata": {},
   "outputs": [
    {
     "name": "stdout",
     "output_type": "stream",
     "text": [
      "beta0= 11.4290, beta1 = 0.7301\n"
     ]
    }
   ],
   "source": [
    "# anaconda에서 'conda install scikit-learn'으로 설치해야 한다\n",
    "import scipy\n",
    "from sklearn.linear_model import LinearRegression\n",
    "\n",
    "X = df['기온'].values.reshape(-1,1) #X는 행렬\n",
    "y = df['아이스커피판매량'].values #y는 벡터\n",
    "\n",
    "model = LinearRegression().fit(X, y) # LinearRegression 객체(model)을 생성\n",
    "# fit() 메서드로 회귀 분석 수행. 입력은 X, y\n",
    "\n",
    "# 선형 회귀 분석의 파라미터 추정값 가져오기\n",
    "beta0 = model.intercept_\n",
    "beta1 = model.coef_[0]\n",
    "\n",
    "# 추정값 결과 출력\n",
    "print(\"beta0= {0:.4f}, beta1 = {1:.4f}\" .format(beta0, beta1))"
   ]
  },
  {
   "cell_type": "code",
   "execution_count": 41,
   "id": "cf7db9f4",
   "metadata": {},
   "outputs": [
    {
     "data": {
      "image/png": "[encoded data removed]",
      "text/plain": [
       "<Figure size 640x480 with 1 Axes>"
      ]
     },
     "metadata": {},
     "output_type": "display_data"
    }
   ],
   "source": [
    "import matplotlib\n",
    "import matplotlib.pyplot as plt\n",
    "from scipy.sparse import csgraph\n",
    "\n",
    "# 한글 폰트를 위한 설정\n",
    "matplotlib.rcParams['font.family'] = 'Malgun Gothic'\n",
    "matplotlib.rcParams['axes.unicode_minus'] = False\n",
    "\n",
    "X = df['기온'].values.reshape(-1,1) #X는 행렬\n",
    "y = df['아이스커피판매량'].values #y는 벡터\n",
    "\n",
    "plt.scatter(X, y)\n",
    "plt.grid(True)\n",
    "plt.xlabel(\"기온(섭씨)\", fontsize = 15)\n",
    "plt.ylabel(\"아이스커피판매량\", fontsize = 15)\n",
    "plt.title(\"기온별 아이스커피판매량\", fontsize = 25)\n",
    "\n",
    "#추세선 표시\n",
    "x_data = np.array([0,60])\n",
    "y_data = beta0 + beta1 * x_data\n",
    "\n",
    "plt.plot(x_data, y_data, 'r--')\n",
    "\n",
    "# 추세선 수식을 그래프에 표시\n",
    "eq_text = \"y={0:.4f} + {1: .4f}x\" .format(beta0, beta1) # 그래프에 표시할 문자열 생성\n",
    "plt.text(12, 50, eq_text, fontsize=15) # 지정한 위치(x,y) =(12,250)에 문자열 표시\n",
    "\n",
    "plt.show()"
   ]
  },
  {
   "cell_type": "code",
   "execution_count": null,
   "id": "1b26b383",
   "metadata": {},
   "outputs": [],
   "source": []
  },
  {
   "cell_type": "code",
   "execution_count": null,
   "id": "dde7e5b6",
   "metadata": {},
   "outputs": [],
   "source": []
  }
 ],
 "metadata": {
  "kernelspec": {
   "display_name": "Python 3 (ipykernel)",
   "language": "python",
   "name": "python3"
  },
  "language_info": {
   "codemirror_mode": {
    "name": "ipython",
    "version": 3
   },
   "file_extension": ".py",
   "mimetype": "text/x-python",
   "name": "python",
   "nbconvert_exporter": "python",
   "pygments_lexer": "ipython3",
   "version": "3.10.12"
  }
 },
 "nbformat": 4,
 "nbformat_minor": 5
}
