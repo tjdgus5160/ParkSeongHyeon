{
 "cells": [
  {
   "cell_type": "code",
   "execution_count": 5,
   "id": "0b17ba04",
   "metadata": {},
   "outputs": [],
   "source": [
    "# 필요한 모듈을 임포트합니다\n",
    "import numpy as np\n",
    "import matplotlib.pyplot as plt\n",
    "from scipy.integrate import odeint\n",
    "import math"
   ]
  },
  {
   "cell_type": "code",
   "execution_count": 26,
   "id": "a23a78ec",
   "metadata": {},
   "outputs": [
    {
     "name": "stdout",
     "output_type": "stream",
     "text": [
      "0.38490017945975047\n"
     ]
    }
   ],
   "source": [
    "L_g = 0\n",
    "L_e = 1\n",
    "S = 1/2\n",
    "J_g = 1/2\n",
    "J_e = 1/2\n",
    "I = 5/2\n",
    "F_g = 2\n",
    "F_e = 2\n",
    "m_F_g = 2\n",
    "m_F_e = 2\n",
    "\n",
    "\n",
    "A=(-1) ** (2*F_g + I + 2*J_g + L_e + S - m_F_e) * ((2*L_e+1) * (2*F_g+1) * (2*F_e+1) * (2*J_g+1) * (2*J_e+1))**(1/2) * (2/15)**(1/2) * (1/6)**(1/2) * (-1/3 * (1/5)**(1/2))\n",
    "\n",
    "print(A)"
   ]
  },
  {
   "cell_type": "code",
   "execution_count": 27,
   "id": "c50d5865",
   "metadata": {},
   "outputs": [
    {
     "name": "stdout",
     "output_type": "stream",
     "text": [
      "0.0\n"
     ]
    }
   ],
   "source": [
    "L_g = 0\n",
    "L_e = 1\n",
    "S = 1/2\n",
    "J_g = 1/2\n",
    "J_e = 1/2\n",
    "I = 5/2\n",
    "F_g = 2\n",
    "F_e = 2\n",
    "m_F_g = 0\n",
    "m_F_e = 0\n",
    "\n",
    "\n",
    "B=(-1) ** (2*F_g + I + 2*J_g + L_e + S - m_F_e) * ((2*L_e+1) * (2*F_g+1) * (2*F_e+1) * (2*J_g+1) * (2*J_e+1))**(1/2) * 0 * (1/6)**(1/2) * (-1/3 * (1/5)**(1/2))\n",
    "\n",
    "print(B)"
   ]
  },
  {
   "cell_type": "code",
   "execution_count": 29,
   "id": "5e0e5bee",
   "metadata": {},
   "outputs": [
    {
     "name": "stdout",
     "output_type": "stream",
     "text": [
      "0.19245008972987523\n"
     ]
    }
   ],
   "source": [
    "L_g = 0\n",
    "L_e = 1\n",
    "S = 1/2\n",
    "J_g = 1/2\n",
    "J_e = 1/2\n",
    "I = 5/2\n",
    "F_g = 2\n",
    "F_e = 2\n",
    "m_F_g = 1\n",
    "m_F_e = 1\n",
    "\n",
    "\n",
    "C=(-1) ** (2*F_g + I + 2*J_g + L_e + S - m_F_e) * ((2*L_e+1) * (2*F_g+1) * (2*F_e+1) * (2*J_g+1) * (2*J_e+1))**(1/2) * -(1/30)**(1/2) * (1/6)**(1/2) * (-1/3 * (1/5)**(1/2))\n",
    "\n",
    "print(C)"
   ]
  },
  {
   "cell_type": "code",
   "execution_count": 13,
   "id": "1a57fb5e",
   "metadata": {},
   "outputs": [
    {
     "data": {
      "text/plain": [
       "6.708203932499369"
      ]
     },
     "execution_count": 13,
     "metadata": {},
     "output_type": "execute_result"
    }
   ],
   "source": [
    "(2*L_e+1)*(2*F_g+1)**(1/2)"
   ]
  },
  {
   "cell_type": "code",
   "execution_count": 14,
   "id": "0a68faab",
   "metadata": {},
   "outputs": [
    {
     "data": {
      "text/plain": [
       "300.0"
      ]
     },
     "execution_count": 14,
     "metadata": {},
     "output_type": "execute_result"
    }
   ],
   "source": [
    "(2*L_e+1) * (2*F_g+1) * (2*F_e+1) * (2*J_g+1) * (2*J_e+1)"
   ]
  },
  {
   "cell_type": "code",
   "execution_count": 15,
   "id": "7735526b",
   "metadata": {},
   "outputs": [
    {
     "data": {
      "text/plain": [
       "17.320508075688775"
      ]
     },
     "execution_count": 15,
     "metadata": {},
     "output_type": "execute_result"
    }
   ],
   "source": [
    "((2*L_e+1) * (2*F_g+1) * (2*F_e+1) * (2*J_g+1) * (2*J_e+1))**(1/2)"
   ]
  },
  {
   "cell_type": "code",
   "execution_count": 20,
   "id": "82a94f65",
   "metadata": {},
   "outputs": [
    {
     "data": {
      "text/plain": [
       "0.5773502691896258"
      ]
     },
     "execution_count": 20,
     "metadata": {},
     "output_type": "execute_result"
    }
   ],
   "source": [
    "1/((3)**(1/2))"
   ]
  },
  {
   "cell_type": "code",
   "execution_count": 32,
   "id": "3c1362cd",
   "metadata": {},
   "outputs": [
    {
     "data": {
      "text/plain": [
       "0.2886751345948129"
      ]
     },
     "execution_count": 32,
     "metadata": {},
     "output_type": "execute_result"
    }
   ],
   "source": [
    "( 1/( 2*3**( 1/2 ) ) )"
   ]
  },
  {
   "cell_type": "code",
   "execution_count": null,
   "id": "3c598409",
   "metadata": {},
   "outputs": [],
   "source": []
  }
 ],
 "metadata": {
  "kernelspec": {
   "display_name": "Python 3 (ipykernel)",
   "language": "python",
   "name": "python3"
  },
  "language_info": {
   "codemirror_mode": {
    "name": "ipython",
    "version": 3
   },
   "file_extension": ".py",
   "mimetype": "text/x-python",
   "name": "python",
   "nbconvert_exporter": "python",
   "pygments_lexer": "ipython3",
   "version": "3.10.12"
  }
 },
 "nbformat": 4,
 "nbformat_minor": 5
}
